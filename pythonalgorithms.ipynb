{
 "cells": [
  {
   "cell_type": "markdown",
   "id": "20e41173-d434-4e20-871b-888b6110f059",
   "metadata": {},
   "source": [
    "### Merge Sort"
   ]
  },
  {
   "cell_type": "code",
   "execution_count": 1,
   "id": "6bbaf65d-0f8d-4dc3-972f-53af535604d7",
   "metadata": {},
   "outputs": [
    {
     "name": "stdout",
     "output_type": "stream",
     "text": [
      "[2, 3, 5, 6, 8]\n"
     ]
    }
   ],
   "source": [
    "def merge_sort(arr):\n",
    "    if len(arr) <= 1:\n",
    "        return arr  # A list with one or zero elements is already sorted.\n",
    "    mid = len(arr) // 2\n",
    "    left = merge_sort(arr[:mid])  # Sort the left half.\n",
    "    right = merge_sort(arr[mid:])  # Sort the right half.\n",
    "    return merge(left, right)  # Merge the sorted halves.\n",
    "\n",
    "def merge(left, right):\n",
    "    result = []\n",
    "    i = j = 0\n",
    "    # Compare each element and merge them in sorted order.\n",
    "    while i < len(left) and j < len(right):\n",
    "        if left[i] < right[j]:\n",
    "            result.append(left[i])\n",
    "            i += 1\n",
    "        else:\n",
    "            result.append(right[j])\n",
    "            j += 1\n",
    "    result.extend(left[i:])  # Add remaining elements from left.\n",
    "    result.extend(right[j:])  # Add remaining elements from right.\n",
    "    return result\n",
    "\n",
    "# Example\n",
    "print(merge_sort([5, 3, 8, 6, 2]))  # Output: [2, 3, 5, 6, 8]"
   ]
  },
  {
   "cell_type": "markdown",
   "id": "1e6cacae-219d-402f-887b-7286f3ae54c7",
   "metadata": {},
   "source": [
    "### Binary Search"
   ]
  },
  {
   "cell_type": "code",
   "execution_count": 2,
   "id": "b35d5613-bd34-4e3b-89ca-589bf2479605",
   "metadata": {},
   "outputs": [
    {
     "name": "stdout",
     "output_type": "stream",
     "text": [
      "2\n"
     ]
    }
   ],
   "source": [
    "def binary_search(arr, target):\n",
    "    left, right = 0, len(arr) - 1  # Define the search range.\n",
    "    while left <= right:\n",
    "        mid = (left + right) // 2  # Find the middle index.\n",
    "        if arr[mid] == target:\n",
    "            return mid  # Return index if target is found.\n",
    "        elif arr[mid] < target:\n",
    "            left = mid + 1  # Search in the right half.\n",
    "        else:\n",
    "            right = mid - 1  # Search in the left half.\n",
    "    return -1  # Target is not found.\n",
    "\n",
    "# Example\n",
    "print(binary_search([1, 2, 3, 4, 5], 3))  # Output: 2 (index of 3)"
   ]
  },
  {
   "cell_type": "markdown",
   "id": "8d9af424-ea0b-402a-918c-18d219998f9f",
   "metadata": {},
   "source": [
    "### Quick Sort"
   ]
  },
  {
   "cell_type": "code",
   "execution_count": 3,
   "id": "45bc7202-d948-41a2-b8b5-0636eaf93d03",
   "metadata": {},
   "outputs": [
    {
     "name": "stdout",
     "output_type": "stream",
     "text": [
      "[2, 3, 5, 7, 10]\n"
     ]
    }
   ],
   "source": [
    "def quick_sort(arr):\n",
    "    if len(arr) <= 1:\n",
    "        return arr  # A list with one or zero elements is already sorted.\n",
    "    pivot = arr[len(arr) // 2]  # Choose a pivot element.\n",
    "    left = [x for x in arr if x < pivot]  # Elements less than pivot.\n",
    "    middle = [x for x in arr if x == pivot]  # Elements equal to pivot.\n",
    "    right = [x for x in arr if x > pivot]  # Elements greater than pivot.\n",
    "    return quick_sort(left) + middle + quick_sort(right)  # Recursively sort and combine.\n",
    "\n",
    "# Example\n",
    "print(quick_sort([10, 5, 2, 3, 7]))  # Output: [2, 3, 5, 7, 10]"
   ]
  },
  {
   "cell_type": "markdown",
   "id": "b4ab9ba0-c834-4b93-a2ca-5a4ff69b6399",
   "metadata": {},
   "source": [
    "### Dynamic Programming Algorithms: Knapsack Problem"
   ]
  },
  {
   "cell_type": "code",
   "execution_count": 4,
   "id": "d2d8c2e0-62b2-4ce3-9204-c37b6626e68f",
   "metadata": {},
   "outputs": [
    {
     "name": "stdout",
     "output_type": "stream",
     "text": [
      "7\n"
     ]
    }
   ],
   "source": [
    "def knapsack(weights, values, capacity):\n",
    "    n = len(values)\n",
    "    dp = [[0 for _ in range(capacity + 1)] for _ in range(n + 1)]  # Initialize a 2D table.\n",
    "    for i in range(1, n + 1):\n",
    "        for w in range(1, capacity + 1):\n",
    "            if weights[i - 1] <= w:\n",
    "                dp[i][w] = max(dp[i - 1][w], values[i - 1] + dp[i - 1][w - weights[i - 1]])\n",
    "            else:\n",
    "                dp[i][w] = dp[i - 1][w]\n",
    "    return dp[n][capacity]\n",
    "\n",
    "# Example\n",
    "weights = [2, 3, 4, 5]\n",
    "values = [3, 4, 5, 6]\n",
    "capacity = 5\n",
    "print(knapsack(weights, values, capacity))  # Output: 7"
   ]
  },
  {
   "cell_type": "markdown",
   "id": "28e21787-1162-4b4a-ac04-94e568ea6e42",
   "metadata": {},
   "source": [
    "### Greedy Algorithms: Dijkstra's Algorithm"
   ]
  },
  {
   "cell_type": "code",
   "execution_count": 5,
   "id": "40c27544-df4c-4254-a9a9-9baa5c2e4ad2",
   "metadata": {},
   "outputs": [
    {
     "name": "stdout",
     "output_type": "stream",
     "text": [
      "{'A': 0, 'B': 1, 'C': 3, 'D': 4}\n"
     ]
    }
   ],
   "source": [
    "import heapq\n",
    "\n",
    "def dijkstra(graph, start):\n",
    "    distances = {node: float('inf') for node in graph}  # Set initial distances to infinity.\n",
    "    distances[start] = 0  # Distance to the start node is zero.\n",
    "    priority_queue = [(0, start)]  # Initialize a priority queue with the start node.\n",
    "\n",
    "    while priority_queue:\n",
    "        current_distance, current_node = heapq.heappop(priority_queue)\n",
    "        if current_distance > distances[current_node]:\n",
    "            continue  # Skip if a shorter path to the current node has already been found.\n",
    "        for neighbor, weight in graph[current_node].items():\n",
    "            distance = current_distance + weight\n",
    "            if distance < distances[neighbor]:  # If a shorter path is found.\n",
    "                distances[neighbor] = distance\n",
    "                heapq.heappush(priority_queue, (distance, neighbor))\n",
    "    return distances\n",
    "\n",
    "# Example\n",
    "graph = {\n",
    "    'A': {'B': 1, 'C': 4},\n",
    "    'B': {'A': 1, 'C': 2, 'D': 5},\n",
    "    'C': {'A': 4, 'B': 2, 'D': 1},\n",
    "    'D': {'B': 5, 'C': 1}\n",
    "}\n",
    "print(dijkstra(graph, 'A'))  # Output: {'A': 0, 'B': 1, 'C': 3, 'D': 4}"
   ]
  },
  {
   "cell_type": "markdown",
   "id": "5b3906ca-986f-41d0-8f8f-c61ac282a1f8",
   "metadata": {},
   "source": [
    "### Breadth First Search"
   ]
  },
  {
   "cell_type": "code",
   "execution_count": 6,
   "id": "9b0db23e-dc76-40cd-8b03-4bad314f3261",
   "metadata": {},
   "outputs": [
    {
     "name": "stdout",
     "output_type": "stream",
     "text": [
      "A B C D E F "
     ]
    }
   ],
   "source": [
    "from collections import deque\n",
    "\n",
    "def bfs(graph, start):\n",
    "    visited = set()  # To keep track of visited nodes.\n",
    "    queue = deque([start])  # Initialize the queue with the start node.\n",
    "\n",
    "    while queue:\n",
    "        node = queue.popleft()  # Dequeue a node.\n",
    "        if node not in visited:\n",
    "            print(node, end=' ')  # Process the node.\n",
    "            visited.add(node)  # Mark the node as visited.\n",
    "            queue.extend(graph[node])  # Add all unvisited neighbors to the queue.\n",
    "\n",
    "# Example\n",
    "graph = {\n",
    "    'A': ['B', 'C'],\n",
    "    'B': ['D', 'E'],\n",
    "    'C': ['F'],\n",
    "    'D': [],\n",
    "    'E': ['F'],\n",
    "    'F': []\n",
    "}\n",
    "bfs(graph, 'A')  # Output: A B C D E F\n"
   ]
  },
  {
   "cell_type": "markdown",
   "id": "727d93c5-2ac9-45a5-89a4-aa7ccab3499d",
   "metadata": {},
   "source": [
    "### Binary Tree"
   ]
  },
  {
   "cell_type": "code",
   "execution_count": 7,
   "id": "9d01c413-1073-4cec-b65c-0779a31e13e6",
   "metadata": {},
   "outputs": [
    {
     "name": "stdout",
     "output_type": "stream",
     "text": [
      "In-order Traversal:\n",
      "4 2 5 1 3 "
     ]
    }
   ],
   "source": [
    "# Define a Node class for the binary tree\n",
    "class Node:\n",
    "    def __init__(self, value):\n",
    "        self.value = value\n",
    "        self.left = None\n",
    "        self.right = None\n",
    "\n",
    "# Function to perform in-order traversal of the tree\n",
    "def in_order_traversal(root):\n",
    "    if root:\n",
    "        in_order_traversal(root.left)  # Traverse left subtree\n",
    "        print(root.value, end=' ')  # Visit the root node\n",
    "        in_order_traversal(root.right)  # Traverse right subtree\n",
    "\n",
    "# Create a binary tree\n",
    "root = Node(1)         #       1\n",
    "root.left = Node(2)    #      / \\\n",
    "root.right = Node(3)   #     2   3\n",
    "root.left.left = Node(4)  #  /\n",
    "root.left.right = Node(5)  # 4   5\n",
    "\n",
    "# Perform in-order traversal\n",
    "print(\"In-order Traversal:\")\n",
    "in_order_traversal(root)  # Output: 4 2 5 1 3\n"
   ]
  },
  {
   "cell_type": "code",
   "execution_count": null,
   "id": "ab4ee14e-dffb-41f4-8f51-4754c748405b",
   "metadata": {},
   "outputs": [],
   "source": []
  }
 ],
 "metadata": {
  "kernelspec": {
   "display_name": "Python 3 (ipykernel)",
   "language": "python",
   "name": "python3"
  },
  "language_info": {
   "codemirror_mode": {
    "name": "ipython",
    "version": 3
   },
   "file_extension": ".py",
   "mimetype": "text/x-python",
   "name": "python",
   "nbconvert_exporter": "python",
   "pygments_lexer": "ipython3",
   "version": "3.9.2"
  }
 },
 "nbformat": 4,
 "nbformat_minor": 5
}
