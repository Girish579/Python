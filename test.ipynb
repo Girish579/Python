{
 "cells": [
  {
   "cell_type": "code",
   "execution_count": 1,
   "id": "eb1f16e6-3a34-4714-b551-deea27714718",
   "metadata": {},
   "outputs": [
    {
     "name": "stdout",
     "output_type": "stream",
     "text": [
      "[0, 1, 4, 9, 16, 25, 36, 49, 64, 81]\n"
     ]
    }
   ],
   "source": [
    "!python list-comphrehension.py"
   ]
  },
  {
   "cell_type": "code",
   "execution_count": 2,
   "id": "eb2112eb-6856-4107-9765-bfbf9a3b255b",
   "metadata": {},
   "outputs": [
    {
     "name": "stdout",
     "output_type": "stream",
     "text": [
      "Time taken by for-loop: 2.7144993 seconds\n",
      "Time taken by list comprehension: 2.3950464999999994 seconds\n"
     ]
    }
   ],
   "source": [
    "!python speedcheck.py"
   ]
  },
  {
   "cell_type": "code",
   "execution_count": 4,
   "id": "13bd2281-0d57-4add-901e-3413cf85be98",
   "metadata": {},
   "outputs": [
    {
     "name": "stdout",
     "output_type": "stream",
     "text": [
      "[0, 1, 4, 9, 16, 25, 36, 49, 64, 81]\n"
     ]
    }
   ],
   "source": [
    "!python forloop.py"
   ]
  },
  {
   "cell_type": "code",
   "execution_count": null,
   "id": "21599fb1-341c-428e-9a28-f2d898c84329",
   "metadata": {},
   "outputs": [],
   "source": []
  }
 ],
 "metadata": {
  "kernelspec": {
   "display_name": "Python 3 (ipykernel)",
   "language": "python",
   "name": "python3"
  },
  "language_info": {
   "codemirror_mode": {
    "name": "ipython",
    "version": 3
   },
   "file_extension": ".py",
   "mimetype": "text/x-python",
   "name": "python",
   "nbconvert_exporter": "python",
   "pygments_lexer": "ipython3",
   "version": "3.9.2"
  }
 },
 "nbformat": 4,
 "nbformat_minor": 5
}
