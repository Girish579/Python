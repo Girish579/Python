{
 "cells": [
  {
   "cell_type": "markdown",
   "id": "e14bd484-2359-4e00-956d-c586c0e96699",
   "metadata": {},
   "source": [
    "### Python Type Casting"
   ]
  },
  {
   "cell_type": "code",
   "execution_count": 1,
   "id": "d95c10ab-6e5c-47ba-8633-c82721cae94a",
   "metadata": {},
   "outputs": [],
   "source": [
    "# int(), float(), str()  - constructer functions"
   ]
  },
  {
   "cell_type": "code",
   "execution_count": 4,
   "id": "1c587063-d2e5-4c0d-9817-7d30ea662926",
   "metadata": {},
   "outputs": [
    {
     "name": "stdout",
     "output_type": "stream",
     "text": [
      "20\n",
      "<class 'int'>\n",
      "20\n",
      "<class 'int'>\n",
      "-----------------\n",
      "22.2\n",
      "<class 'float'>\n",
      "22\n",
      "<class 'int'>\n",
      "-----------------\n",
      "26\n",
      "<class 'str'>\n",
      "26\n",
      "<class 'int'>\n"
     ]
    }
   ],
   "source": [
    "x = 20 # Integer\n",
    "y = 22.2  # Float\n",
    "z = \"26\" # String\n",
    "\n",
    "print(x)\n",
    "print(type(x))\n",
    "x1 = int(x)\n",
    "print(x1)\n",
    "print(type(x1))\n",
    "print(\"-----------------\")\n",
    "print(y)\n",
    "print(type(y))\n",
    "y1 = int(y)\n",
    "print(y1)\n",
    "print(type(y1))\n",
    "print(\"-----------------\")\n",
    "print(z)\n",
    "print(type(z))\n",
    "z1 = int(z)\n",
    "print(z1)\n",
    "print(type(z1))\n"
   ]
  },
  {
   "cell_type": "code",
   "execution_count": 5,
   "id": "ce805353-1810-4dce-9f03-c58e4b78dabf",
   "metadata": {},
   "outputs": [
    {
     "name": "stdout",
     "output_type": "stream",
     "text": [
      "1.0\n",
      "22.2\n",
      "33.0\n"
     ]
    }
   ],
   "source": [
    "x = float(1)\n",
    "print(x)\n",
    "\n",
    "y = float(22.2)\n",
    "print(y)\n",
    "\n",
    "z = float(\"33\")\n",
    "print(z)\n"
   ]
  },
  {
   "cell_type": "code",
   "execution_count": 6,
   "id": "8c6b788f-8aac-45aa-89d9-8af0e1a667be",
   "metadata": {},
   "outputs": [
    {
     "name": "stdout",
     "output_type": "stream",
     "text": [
      "s1\n",
      "2\n",
      "<class 'str'>\n",
      "3.0\n",
      "<class 'str'>\n"
     ]
    }
   ],
   "source": [
    "x = str(\"s1\")\n",
    "print(x)\n",
    "\n",
    "y = str(2)\n",
    "print(y)\n",
    "print(type(y))\n",
    "\n",
    "z = str(3.0)\n",
    "print(z)\n",
    "print(type(z))"
   ]
  },
  {
   "cell_type": "markdown",
   "id": "f331a600-a81b-4df7-a85d-2f7b22ba56bd",
   "metadata": {},
   "source": [
    "### Random Number Generation"
   ]
  },
  {
   "cell_type": "code",
   "execution_count": 8,
   "id": "18b95720-ed83-4b4e-9915-390f9819d25e",
   "metadata": {},
   "outputs": [
    {
     "name": "stdout",
     "output_type": "stream",
     "text": [
      "7\n"
     ]
    }
   ],
   "source": [
    "import random\n",
    "print(random.randrange(1,10))\n"
   ]
  },
  {
   "cell_type": "code",
   "execution_count": 9,
   "id": "c5f40324-d668-4610-9973-20a052fafc05",
   "metadata": {},
   "outputs": [
    {
     "name": "stdout",
     "output_type": "stream",
     "text": [
      "3\n"
     ]
    }
   ],
   "source": [
    "import random\n",
    "print(random.randrange(1,10))"
   ]
  },
  {
   "cell_type": "code",
   "execution_count": 10,
   "id": "1716f044-5527-4ffe-9278-c8a4b6056be5",
   "metadata": {},
   "outputs": [
    {
     "name": "stdout",
     "output_type": "stream",
     "text": [
      "2\n"
     ]
    }
   ],
   "source": [
    "import random\n",
    "print(random.randrange(1,10))"
   ]
  },
  {
   "cell_type": "code",
   "execution_count": 11,
   "id": "2c3d291e-64e3-4c2a-b020-4e3820a8deb2",
   "metadata": {},
   "outputs": [
    {
     "name": "stdout",
     "output_type": "stream",
     "text": [
      "9\n"
     ]
    }
   ],
   "source": [
    "import random\n",
    "print(random.randrange(1,10))"
   ]
  },
  {
   "cell_type": "code",
   "execution_count": 19,
   "id": "f2d2a7d0-ac7a-4818-85d2-879e5a50c21f",
   "metadata": {},
   "outputs": [
    {
     "name": "stdout",
     "output_type": "stream",
     "text": [
      "0.8090891531736861\n"
     ]
    }
   ],
   "source": [
    "import random\n",
    "print(random.random())  # generates floating point number between 0 to 1"
   ]
  },
  {
   "cell_type": "code",
   "execution_count": 17,
   "id": "ffea39d8-d9d0-4018-8e93-cb36fc47991c",
   "metadata": {},
   "outputs": [
    {
     "name": "stdout",
     "output_type": "stream",
     "text": [
      "0.8345784107962634\n"
     ]
    }
   ],
   "source": [
    "import random\n",
    "print(random.random())"
   ]
  },
  {
   "cell_type": "code",
   "execution_count": 18,
   "id": "8a3a0e11-6561-4dd7-b298-4a9655f45571",
   "metadata": {},
   "outputs": [
    {
     "name": "stdout",
     "output_type": "stream",
     "text": [
      "0.3879188689130699\n"
     ]
    }
   ],
   "source": [
    "import random\n",
    "print(random.random())"
   ]
  },
  {
   "cell_type": "markdown",
   "id": "77cbac69-0e83-489a-89d5-3b5d746b81ad",
   "metadata": {},
   "source": [
    "### Python Strings"
   ]
  },
  {
   "cell_type": "raw",
   "id": "97e5004b-251b-4c15-aa0b-a56794fbd270",
   "metadata": {},
   "source": [
    "'Girish'\n",
    "\"Girish\""
   ]
  },
  {
   "cell_type": "raw",
   "id": "468bc106-59a3-4b62-b901-b44dd7dc9faa",
   "metadata": {},
   "source": [
    "G - 0\n",
    "i - 1\n",
    "r - 2\n",
    "i - 3\n",
    "s - 4\n",
    "h - 5"
   ]
  },
  {
   "cell_type": "code",
   "execution_count": 20,
   "id": "8e22a454-8a27-4b77-aaa9-9b96a471d173",
   "metadata": {},
   "outputs": [
    {
     "name": "stdout",
     "output_type": "stream",
     "text": [
      "i\n"
     ]
    }
   ],
   "source": [
    "x = \"Girish\"\n",
    "print(x[1])"
   ]
  },
  {
   "cell_type": "code",
   "execution_count": 21,
   "id": "d96136d2-8ffa-4edf-9d35-35908d9580fb",
   "metadata": {},
   "outputs": [
    {
     "name": "stdout",
     "output_type": "stream",
     "text": [
      "h\n"
     ]
    }
   ],
   "source": [
    "x = \"Girish\"\n",
    "print(x[5])"
   ]
  },
  {
   "cell_type": "code",
   "execution_count": 22,
   "id": "0287557e-8f04-4b82-a6f6-376efdc6b59d",
   "metadata": {},
   "outputs": [
    {
     "ename": "IndexError",
     "evalue": "string index out of range",
     "output_type": "error",
     "traceback": [
      "\u001b[1;31m---------------------------------------------------------------------------\u001b[0m",
      "\u001b[1;31mIndexError\u001b[0m                                Traceback (most recent call last)",
      "Cell \u001b[1;32mIn[22], line 2\u001b[0m\n\u001b[0;32m      1\u001b[0m x \u001b[38;5;241m=\u001b[39m \u001b[38;5;124m\"\u001b[39m\u001b[38;5;124mGirish\u001b[39m\u001b[38;5;124m\"\u001b[39m\n\u001b[1;32m----> 2\u001b[0m \u001b[38;5;28mprint\u001b[39m(\u001b[43mx\u001b[49m\u001b[43m[\u001b[49m\u001b[38;5;241;43m6\u001b[39;49m\u001b[43m]\u001b[49m)\n",
      "\u001b[1;31mIndexError\u001b[0m: string index out of range"
     ]
    }
   ],
   "source": [
    "x = \"Girish\"\n",
    "print(x[6])"
   ]
  },
  {
   "cell_type": "code",
   "execution_count": 23,
   "id": "f3392969-6538-4cbd-a983-dce726e73f29",
   "metadata": {},
   "outputs": [
    {
     "name": "stdout",
     "output_type": "stream",
     "text": [
      "G\n",
      "i\n",
      "r\n",
      "i\n",
      "s\n",
      "h\n"
     ]
    }
   ],
   "source": [
    "# Strings are arrays\n",
    "# Looping Through a String\n",
    "for x in \"Girish\":\n",
    "    print(x)"
   ]
  },
  {
   "cell_type": "code",
   "execution_count": 24,
   "id": "30e9b17b-9505-4633-8b98-a92e0069cdfa",
   "metadata": {},
   "outputs": [
    {
     "name": "stdout",
     "output_type": "stream",
     "text": [
      "Apple\n",
      "Banana\n",
      "Papaya\n"
     ]
    }
   ],
   "source": [
    "fruits = [\"Apple\", \"Banana\", \"Papaya\"]\n",
    "for x in fruits:\n",
    "    print(x)"
   ]
  },
  {
   "cell_type": "code",
   "execution_count": 25,
   "id": "43f71c8f-16a2-48c5-bd6d-2203b784f8e0",
   "metadata": {},
   "outputs": [
    {
     "name": "stdout",
     "output_type": "stream",
     "text": [
      "18\n"
     ]
    }
   ],
   "source": [
    "# len() function returns the lenght of the string\n",
    "x = \"Python Programming\"\n",
    "print(len(x))"
   ]
  },
  {
   "cell_type": "code",
   "execution_count": 26,
   "id": "7321c892-dd44-4c88-9719-94db7dc0a365",
   "metadata": {},
   "outputs": [
    {
     "name": "stdout",
     "output_type": "stream",
     "text": [
      "True\n"
     ]
    }
   ],
   "source": [
    "# Check String\n",
    "txt = \"Artificial Intelligence is the heart of the Industry Revolution. The Future of AI is powerful.\"\n",
    "print(\"Industry\" in txt)"
   ]
  },
  {
   "cell_type": "code",
   "execution_count": 27,
   "id": "7a985de6-71aa-438f-9de7-7fb9485ce2a0",
   "metadata": {},
   "outputs": [
    {
     "name": "stdout",
     "output_type": "stream",
     "text": [
      "False\n"
     ]
    }
   ],
   "source": [
    "print(\"Industry1\" in txt)"
   ]
  },
  {
   "cell_type": "code",
   "execution_count": 28,
   "id": "0b5108e5-23d4-42c3-ac2f-97c85cd54438",
   "metadata": {},
   "outputs": [
    {
     "name": "stdout",
     "output_type": "stream",
     "text": [
      "Yes, 'Industry' is present.\n"
     ]
    }
   ],
   "source": [
    "txt = \"Artificial Intelligence is the heart of the Industry Revolution. The Future of AI is powerful.\"\n",
    "if \"Industry\" in txt:\n",
    "    print(\"Yes, 'Industry' is present.\")"
   ]
  },
  {
   "cell_type": "code",
   "execution_count": 30,
   "id": "67eef03e-f2be-44cd-a25c-b429e80455f4",
   "metadata": {},
   "outputs": [
    {
     "name": "stdout",
     "output_type": "stream",
     "text": [
      "True\n"
     ]
    }
   ],
   "source": [
    "txt = \"Artificial Intelligence is the heart of the Industry Revolution. The Future of AI is powerful.\"\n",
    "print(\"Industry1\" not in txt)"
   ]
  },
  {
   "cell_type": "code",
   "execution_count": 31,
   "id": "23e4fa98-89ff-4e61-abad-be4f9d3caeb5",
   "metadata": {},
   "outputs": [
    {
     "name": "stdout",
     "output_type": "stream",
     "text": [
      "False\n"
     ]
    }
   ],
   "source": [
    "print(\"Industry\" not in txt)"
   ]
  },
  {
   "cell_type": "markdown",
   "id": "dd100115-a0b5-40d9-aa18-ffcb362be26f",
   "metadata": {},
   "source": [
    "### String Slicing"
   ]
  },
  {
   "cell_type": "code",
   "execution_count": 33,
   "id": "dd2d5876-78fd-4d90-87e6-d66b0d89d6cf",
   "metadata": {},
   "outputs": [
    {
     "name": "stdout",
     "output_type": "stream",
     "text": [
      "tif\n"
     ]
    }
   ],
   "source": [
    "txt = \"Artificial Intelligence is the heart of the Industry Revolution. The Future of AI is powerful.\"\n",
    "# Get the characters from position 2 to position 5 (not included)\n",
    "print(txt[2:5])"
   ]
  },
  {
   "cell_type": "code",
   "execution_count": 34,
   "id": "453cb9b2-cca3-45ee-ad94-08603c618a11",
   "metadata": {},
   "outputs": [
    {
     "name": "stdout",
     "output_type": "stream",
     "text": [
      "Artif\n"
     ]
    }
   ],
   "source": [
    "# Get the characters from the start to position 5 (not included)\n",
    "print(txt[:5])"
   ]
  },
  {
   "cell_type": "code",
   "execution_count": 35,
   "id": "af6c0889-0536-430a-a289-2e2ef525266e",
   "metadata": {},
   "outputs": [
    {
     "name": "stdout",
     "output_type": "stream",
     "text": [
      "Artificial I\n"
     ]
    }
   ],
   "source": [
    "print(txt[:12])"
   ]
  },
  {
   "cell_type": "code",
   "execution_count": 36,
   "id": "e7ead23b-d758-433f-88e3-3ab941c068f3",
   "metadata": {},
   "outputs": [
    {
     "name": "stdout",
     "output_type": "stream",
     "text": [
      "tificial Intelligence is the heart of the Industry Revolution. The Future of AI is powerful.\n"
     ]
    }
   ],
   "source": [
    "# Get the characters from position 2, and all the way to the end\n",
    "print(txt[2:])"
   ]
  },
  {
   "cell_type": "code",
   "execution_count": 37,
   "id": "da409c93-dd38-464b-8ee3-4763b71f0567",
   "metadata": {},
   "outputs": [
    {
     "name": "stdout",
     "output_type": "stream",
     "text": [
      " Intelligence is the heart of the Industry Revolution. The Future of AI is powerful.\n"
     ]
    }
   ],
   "source": [
    "print(txt[10:])"
   ]
  },
  {
   "cell_type": "code",
   "execution_count": 38,
   "id": "98e21d6f-7248-4c03-879c-6dcbbceec9be",
   "metadata": {},
   "outputs": [
    {
     "name": "stdout",
     "output_type": "stream",
     "text": [
      "13\n"
     ]
    }
   ],
   "source": [
    "# Negative Indexing\n",
    "txt = \"Hello, World!\"\n",
    "print(len(txt))\n"
   ]
  },
  {
   "cell_type": "code",
   "execution_count": 39,
   "id": "5178c311-ae32-4a1c-b603-459ac8dc1579",
   "metadata": {},
   "outputs": [
    {
     "name": "stdout",
     "output_type": "stream",
     "text": [
      "orl\n"
     ]
    }
   ],
   "source": [
    "# Get the characters from \"o\" in txt\n",
    "print(txt[-5:-2])"
   ]
  },
  {
   "cell_type": "code",
   "execution_count": 43,
   "id": "68e9c06d-4ab9-43f0-be4f-cb8f98811445",
   "metadata": {},
   "outputs": [
    {
     "name": "stdout",
     "output_type": "stream",
     "text": [
      ", W\n"
     ]
    }
   ],
   "source": [
    "print(txt[-8:-5])"
   ]
  },
  {
   "cell_type": "code",
   "execution_count": null,
   "id": "f96481f8-473c-4879-9517-6cd1529c6ea2",
   "metadata": {},
   "outputs": [],
   "source": []
  }
 ],
 "metadata": {
  "kernelspec": {
   "display_name": "Python 3 (ipykernel)",
   "language": "python",
   "name": "python3"
  },
  "language_info": {
   "codemirror_mode": {
    "name": "ipython",
    "version": 3
   },
   "file_extension": ".py",
   "mimetype": "text/x-python",
   "name": "python",
   "nbconvert_exporter": "python",
   "pygments_lexer": "ipython3",
   "version": "3.12.7"
  }
 },
 "nbformat": 4,
 "nbformat_minor": 5
}
