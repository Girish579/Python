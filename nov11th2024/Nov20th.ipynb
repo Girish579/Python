{
 "cells": [
  {
   "cell_type": "code",
   "execution_count": 1,
   "id": "692a2a46-d82b-413c-8afc-34e143b59978",
   "metadata": {},
   "outputs": [
    {
     "name": "stdout",
     "output_type": "stream",
     "text": [
      "Yes, 'Three' is in the list\n"
     ]
    }
   ],
   "source": [
    "mylist = [\"One\",\"Two\",\"Three\",\"Four\",\"Five\"]\n",
    "if \"Three\" in mylist:\n",
    "    print(\"Yes, \\'Three\\' is in the list\")"
   ]
  },
  {
   "cell_type": "markdown",
   "id": "c2cb3598-cb69-4521-9293-3a1de0d0a680",
   "metadata": {},
   "source": [
    "#### Change List items"
   ]
  },
  {
   "cell_type": "code",
   "execution_count": 2,
   "id": "cf4ad41f-76f7-4dbe-b288-58d35c958662",
   "metadata": {},
   "outputs": [
    {
     "name": "stdout",
     "output_type": "stream",
     "text": [
      "['One', 'Two', 'Three', 'Forty Four', 'Five']\n"
     ]
    }
   ],
   "source": [
    "mylist = [\"One\",\"Two\",\"Three\",\"Four\",\"Five\"]\n",
    "mylist[3] = \"Forty Four\"\n",
    "print(mylist)"
   ]
  },
  {
   "cell_type": "code",
   "execution_count": 3,
   "id": "b8931a9f-2bbe-4238-a712-3d524426a74b",
   "metadata": {},
   "outputs": [
    {
     "data": {
      "text/plain": [
       "['One', 'Two', 'Three', 'Forty Four', 'Five']"
      ]
     },
     "execution_count": 3,
     "metadata": {},
     "output_type": "execute_result"
    }
   ],
   "source": [
    "mylist"
   ]
  },
  {
   "cell_type": "code",
   "execution_count": 5,
   "id": "37f0265f-9b90-44c0-8249-368ff163c1f6",
   "metadata": {},
   "outputs": [
    {
     "name": "stdout",
     "output_type": "stream",
     "text": [
      "['One', 'Twenty Two', 'Twenty Three', 'Forty Four', 'Five']\n"
     ]
    }
   ],
   "source": [
    "mylist[1:3] =[\"Twenty Two\",\"Twenty Three\"] # Change a Range of Item values\n",
    "print(mylist)"
   ]
  },
  {
   "cell_type": "code",
   "execution_count": 6,
   "id": "30a232f0-d8b0-4141-8c06-5c9bd017501e",
   "metadata": {},
   "outputs": [
    {
     "name": "stdout",
     "output_type": "stream",
     "text": [
      "['One', 'Twenty Two', 'Twenty Three', 'Forty Four', 'New Value 1', 'New Value 2']\n"
     ]
    }
   ],
   "source": [
    "mylist[4:5] = [\"New Value 1\", \"New Value 2\"]\n",
    "print(mylist)"
   ]
  },
  {
   "cell_type": "code",
   "execution_count": 10,
   "id": "5eac6920-9869-44c4-92f1-202a4e0f94f2",
   "metadata": {},
   "outputs": [
    {
     "name": "stdout",
     "output_type": "stream",
     "text": [
      "['apple', 'Coconut']\n"
     ]
    }
   ],
   "source": [
    "mylist1 = [\"apple\",\"banana\",\"orange\"]\n",
    "mylist1[1:3] = [\"Coconut\"]\n",
    "print(mylist1)"
   ]
  },
  {
   "cell_type": "markdown",
   "id": "f7c83b44-0268-4a28-bb57-1c595a527a80",
   "metadata": {},
   "source": [
    "#### Insert Items"
   ]
  },
  {
   "cell_type": "code",
   "execution_count": 11,
   "id": "2e83e4fe-bd63-485e-8cbb-3a2407daff33",
   "metadata": {},
   "outputs": [
    {
     "name": "stdout",
     "output_type": "stream",
     "text": [
      "['one', 'two', 'Apple', 'three']\n"
     ]
    }
   ],
   "source": [
    "mylist2 = [\"one\",\"two\",\"three\"]\n",
    "mylist2.insert(2,\"Apple\")\n",
    "print(mylist2)"
   ]
  },
  {
   "cell_type": "markdown",
   "id": "c3a0456e-f885-415b-a601-aba01286b2cc",
   "metadata": {},
   "source": [
    "#### Append Items"
   ]
  },
  {
   "cell_type": "code",
   "execution_count": 13,
   "id": "25f4011a-6d66-4833-9bf0-48844d8ba557",
   "metadata": {},
   "outputs": [
    {
     "name": "stdout",
     "output_type": "stream",
     "text": [
      "['test1', 'test2', 'test3', 'New Value']\n"
     ]
    }
   ],
   "source": [
    "mylist3 = [\"test1\",\"test2\",\"test3\"]\n",
    "mylist3.append(\"New Value\")\n",
    "print(mylist3)"
   ]
  },
  {
   "cell_type": "markdown",
   "id": "cb36b2d5-c7c9-4c42-8f26-c47b3595a614",
   "metadata": {},
   "source": [
    "#### Extend List"
   ]
  },
  {
   "cell_type": "code",
   "execution_count": 14,
   "id": "fe780cd7-17cc-459d-8589-8813e9f81538",
   "metadata": {},
   "outputs": [
    {
     "name": "stdout",
     "output_type": "stream",
     "text": [
      "['t1', 't2', 't3', 'p1', 'p2', 'p3']\n"
     ]
    }
   ],
   "source": [
    "# To append elements from another list to the current list\n",
    "mylist4 = [\"t1\",\"t2\",\"t3\"]\n",
    "mylist5 = [\"p1\",\"p2\",\"p3\"]\n",
    "mylist4.extend(mylist5)\n",
    "print(mylist4)"
   ]
  },
  {
   "cell_type": "markdown",
   "id": "8599e3a7-a075-436c-8d74-c0eb8f6e93ff",
   "metadata": {},
   "source": [
    "#### Remove Items"
   ]
  },
  {
   "cell_type": "code",
   "execution_count": 15,
   "id": "23daf11b-2b0f-49df-bc6c-fec39e87f32b",
   "metadata": {},
   "outputs": [
    {
     "name": "stdout",
     "output_type": "stream",
     "text": [
      "['t1', 't2']\n"
     ]
    }
   ],
   "source": [
    "mylist6 = [\"t1\",\"t2\",\"t3\"]\n",
    "mylist6.remove(\"t3\")\n",
    "print(mylist6)\n"
   ]
  },
  {
   "cell_type": "code",
   "execution_count": 16,
   "id": "c7f072a1-176e-44ed-b3ff-6810ec437704",
   "metadata": {},
   "outputs": [
    {
     "name": "stdout",
     "output_type": "stream",
     "text": [
      "['t1', 't2', 't1', 't2', 't3']\n"
     ]
    }
   ],
   "source": [
    "mylist6 = [\"t1\",\"t2\",\"t3\",\"t1\",\"t2\",\"t3\"]\n",
    "mylist6.remove(\"t3\") # Removes the first occurance\n",
    "print(mylist6)\n"
   ]
  },
  {
   "cell_type": "code",
   "execution_count": 17,
   "id": "fb9529f6-a4ae-42fd-94d5-f76d223b9b94",
   "metadata": {},
   "outputs": [
    {
     "name": "stdout",
     "output_type": "stream",
     "text": [
      "['t1', 't2', 't1', 't2', 't3']\n"
     ]
    }
   ],
   "source": [
    "print(mylist6)"
   ]
  },
  {
   "cell_type": "code",
   "execution_count": 19,
   "id": "f5725bbc-1c77-40f4-ac5a-316a627259f3",
   "metadata": {},
   "outputs": [
    {
     "ename": "IndexError",
     "evalue": "pop index out of range",
     "output_type": "error",
     "traceback": [
      "\u001b[1;31m---------------------------------------------------------------------------\u001b[0m",
      "\u001b[1;31mIndexError\u001b[0m                                Traceback (most recent call last)",
      "Cell \u001b[1;32mIn[19], line 1\u001b[0m\n\u001b[1;32m----> 1\u001b[0m \u001b[43mmylist6\u001b[49m\u001b[38;5;241;43m.\u001b[39;49m\u001b[43mpop\u001b[49m\u001b[43m(\u001b[49m\u001b[38;5;241;43m4\u001b[39;49m\u001b[43m)\u001b[49m \u001b[38;5;66;03m# Based on Specified Index\u001b[39;00m\n\u001b[0;32m      2\u001b[0m \u001b[38;5;28mprint\u001b[39m(mylist6)\n",
      "\u001b[1;31mIndexError\u001b[0m: pop index out of range"
     ]
    }
   ],
   "source": [
    "mylist6.pop(4) # Based on Specified Index\n",
    "print(mylist6)"
   ]
  },
  {
   "cell_type": "code",
   "execution_count": 20,
   "id": "acb5a780-1269-4270-a753-07225f6258e0",
   "metadata": {},
   "outputs": [
    {
     "name": "stdout",
     "output_type": "stream",
     "text": [
      "['t1', 't2', 't1']\n"
     ]
    }
   ],
   "source": [
    "mylist6.pop() # If we not mentioning any index number, then it remove the last item\n",
    "print(mylist6)"
   ]
  },
  {
   "cell_type": "code",
   "execution_count": 21,
   "id": "c4195480-3693-4beb-b53e-f41620f6fe0b",
   "metadata": {},
   "outputs": [
    {
     "name": "stdout",
     "output_type": "stream",
     "text": [
      "['t1', 't2', 't1']\n"
     ]
    }
   ],
   "source": [
    "print(mylist6)"
   ]
  },
  {
   "cell_type": "code",
   "execution_count": 22,
   "id": "ade3086a-5c03-4afa-86d9-9b1476f8df40",
   "metadata": {},
   "outputs": [],
   "source": [
    "del mylist6[2]"
   ]
  },
  {
   "cell_type": "code",
   "execution_count": 23,
   "id": "72889e65-6e50-48fb-8c4c-4a5621205a3b",
   "metadata": {},
   "outputs": [
    {
     "name": "stdout",
     "output_type": "stream",
     "text": [
      "['t1', 't2']\n"
     ]
    }
   ],
   "source": [
    "print(mylist6)"
   ]
  },
  {
   "cell_type": "code",
   "execution_count": 24,
   "id": "d92f13d9-e29d-4044-b1a0-ff058bdf6922",
   "metadata": {},
   "outputs": [],
   "source": [
    "del mylist6"
   ]
  },
  {
   "cell_type": "code",
   "execution_count": 25,
   "id": "593e7b61-e1e1-488b-aa05-da5c7d139876",
   "metadata": {},
   "outputs": [
    {
     "ename": "NameError",
     "evalue": "name 'mylist6' is not defined",
     "output_type": "error",
     "traceback": [
      "\u001b[1;31m---------------------------------------------------------------------------\u001b[0m",
      "\u001b[1;31mNameError\u001b[0m                                 Traceback (most recent call last)",
      "Cell \u001b[1;32mIn[25], line 1\u001b[0m\n\u001b[1;32m----> 1\u001b[0m \u001b[38;5;28mprint\u001b[39m(\u001b[43mmylist6\u001b[49m)\n",
      "\u001b[1;31mNameError\u001b[0m: name 'mylist6' is not defined"
     ]
    }
   ],
   "source": [
    "print(mylist6)"
   ]
  },
  {
   "cell_type": "code",
   "execution_count": 26,
   "id": "c78ce90e-a37f-42ba-9227-de0e5ec5974d",
   "metadata": {},
   "outputs": [
    {
     "name": "stdout",
     "output_type": "stream",
     "text": [
      "['t1', 't2', 't3', 't1', 't2', 't3']\n"
     ]
    }
   ],
   "source": [
    "mylist6 = [\"t1\",\"t2\",\"t3\",\"t1\",\"t2\",\"t3\"]\n",
    "print(mylist6)"
   ]
  },
  {
   "cell_type": "code",
   "execution_count": 27,
   "id": "baf33e93-9227-45fd-a381-a57440a73dfd",
   "metadata": {},
   "outputs": [
    {
     "name": "stdout",
     "output_type": "stream",
     "text": [
      "[]\n"
     ]
    }
   ],
   "source": [
    "mylist6.clear()\n",
    "print(mylist6)"
   ]
  },
  {
   "cell_type": "code",
   "execution_count": 29,
   "id": "15782974-8cea-4835-b2ff-a6504b764243",
   "metadata": {},
   "outputs": [
    {
     "name": "stdout",
     "output_type": "stream",
     "text": [
      "['Girish']\n"
     ]
    }
   ],
   "source": [
    "mylist6.insert(0,\"Girish\")\n",
    "print(mylist6)"
   ]
  },
  {
   "cell_type": "markdown",
   "id": "7000aa4d-70ce-482d-8e7d-d24641ba94b3",
   "metadata": {},
   "source": [
    "#### Looping the Lists"
   ]
  },
  {
   "cell_type": "code",
   "execution_count": 31,
   "id": "a9b7abfc-a399-4122-a556-2c93726e5d70",
   "metadata": {},
   "outputs": [
    {
     "name": "stdout",
     "output_type": "stream",
     "text": [
      "t1\n",
      "t2\n",
      "t3\n",
      "t1\n",
      "t2\n",
      "t3\n"
     ]
    }
   ],
   "source": [
    "mylist6 = [\"t1\",\"t2\",\"t3\",\"t1\",\"t2\",\"t3\"]\n",
    "for x in mylist6:\n",
    "    print(x)"
   ]
  },
  {
   "cell_type": "code",
   "execution_count": 32,
   "id": "4ef6fade-25ff-4310-bbe5-f89cd59aeaf6",
   "metadata": {},
   "outputs": [
    {
     "name": "stdout",
     "output_type": "stream",
     "text": [
      "t1\n",
      "t2\n",
      "t3\n",
      "t1\n",
      "t2\n",
      "t3\n"
     ]
    }
   ],
   "source": [
    "mylist6 = [\"t1\",\"t2\",\"t3\",\"t1\",\"t2\",\"t3\"]\n",
    "i = 0\n",
    "while i < len(mylist6):\n",
    "    print(mylist6[i])\n",
    "    i = i + 1"
   ]
  },
  {
   "cell_type": "markdown",
   "id": "9ba930cf-9d95-4794-8bb4-8fbcf24a9b8a",
   "metadata": {},
   "source": [
    "#### Sorting the Lists"
   ]
  },
  {
   "cell_type": "code",
   "execution_count": 34,
   "id": "d2244973-fecf-4dc6-bc48-6977cf0e1ecd",
   "metadata": {},
   "outputs": [
    {
     "name": "stdout",
     "output_type": "stream",
     "text": [
      "Before Sorting: ['One', 'Two', 'Three', 'Four', 'Five']\n",
      "After Sorting: ['Five', 'Four', 'One', 'Three', 'Two']\n"
     ]
    }
   ],
   "source": [
    "mylist = [\"One\",\"Two\",\"Three\",\"Four\",\"Five\"]\n",
    "print(\"Before Sorting:\",mylist)\n",
    "mylist.sort()\n",
    "print(\"After Sorting:\",mylist)"
   ]
  },
  {
   "cell_type": "code",
   "execution_count": 36,
   "id": "7b5c897d-b2d8-49fc-a8e7-a23c8295890f",
   "metadata": {},
   "outputs": [
    {
     "name": "stdout",
     "output_type": "stream",
     "text": [
      "[34, 87, 42, 98, 100]\n",
      "[34, 42, 87, 98, 100]\n"
     ]
    }
   ],
   "source": [
    "mylist1 = [34,87,42,98,100]\n",
    "print(mylist1)\n",
    "mylist1.sort()\n",
    "print(mylist1)"
   ]
  },
  {
   "cell_type": "code",
   "execution_count": 37,
   "id": "7e8e4010-9b71-4433-b6c8-59287b4c8bb8",
   "metadata": {},
   "outputs": [
    {
     "name": "stdout",
     "output_type": "stream",
     "text": [
      "[34, 87, 42, 98, 100]\n"
     ]
    }
   ],
   "source": [
    "mylist1 = [34,87,42,98,100]\n",
    "print(mylist1)"
   ]
  },
  {
   "cell_type": "code",
   "execution_count": 38,
   "id": "626bf017-3feb-4a9c-b6ba-ec72e6c7f174",
   "metadata": {},
   "outputs": [
    {
     "name": "stdout",
     "output_type": "stream",
     "text": [
      "[100, 98, 87, 42, 34]\n"
     ]
    }
   ],
   "source": [
    "mylist1.sort(reverse=True)\n",
    "print(mylist1)"
   ]
  },
  {
   "cell_type": "code",
   "execution_count": 39,
   "id": "19998955-1782-4fb6-8e06-0c7fe01b948d",
   "metadata": {},
   "outputs": [
    {
     "name": "stdout",
     "output_type": "stream",
     "text": [
      "['Two', 'Three', 'One', 'Four', 'Five']\n"
     ]
    }
   ],
   "source": [
    "mylist = [\"One\",\"Two\",\"Three\",\"Four\",\"Five\"]\n",
    "mylist.sort(reverse=True)\n",
    "print(mylist)"
   ]
  },
  {
   "cell_type": "code",
   "execution_count": 40,
   "id": "45c0d4c7-a73e-4c98-b690-4a709d920c6a",
   "metadata": {},
   "outputs": [],
   "source": [
    "# Sort is case sensitive ( Sort Capital Letters, and then lower Case Letters)"
   ]
  },
  {
   "cell_type": "code",
   "execution_count": 42,
   "id": "3fb6a36f-59a4-4b25-90a8-2a8fb24016d3",
   "metadata": {},
   "outputs": [
    {
     "name": "stdout",
     "output_type": "stream",
     "text": [
      "['Five', 'Four', 'One', 'Three', 'Two', 'five', 'four', 'one', 'three', 'two']\n"
     ]
    }
   ],
   "source": [
    "mylist = [\"One\",\"Two\",\"Three\",\"Four\",\"Five\",\"one\",\"two\",\"three\",\"four\",\"five\"]\n",
    "\n",
    "mylist.sort()\n",
    "print(mylist)\n"
   ]
  },
  {
   "cell_type": "code",
   "execution_count": 43,
   "id": "caf30efd-6d54-4dc1-9ff2-64b93274ddbb",
   "metadata": {},
   "outputs": [
    {
     "name": "stdout",
     "output_type": "stream",
     "text": [
      "['Five', 'five', 'Four', 'four', 'One', 'one', 'Three', 'three', 'Two', 'two']\n"
     ]
    }
   ],
   "source": [
    "mylist.sort(key = str.lower)\n",
    "print(mylist)\n"
   ]
  },
  {
   "cell_type": "code",
   "execution_count": 44,
   "id": "79daa9b9-048a-4c28-8d47-289f3c6403e1",
   "metadata": {},
   "outputs": [
    {
     "name": "stdout",
     "output_type": "stream",
     "text": [
      "['Five', 'five', 'Four', 'four', 'One', 'one', 'Three', 'three', 'Two', 'two']\n"
     ]
    }
   ],
   "source": [
    "print(mylist)"
   ]
  },
  {
   "cell_type": "code",
   "execution_count": 47,
   "id": "087d9fe6-d0a4-4a15-90a8-58696d3de567",
   "metadata": {},
   "outputs": [
    {
     "name": "stdout",
     "output_type": "stream",
     "text": [
      "['two', 'Two', 'three', 'Three', 'one', 'One', 'four', 'Four', 'five', 'Five']\n"
     ]
    }
   ],
   "source": [
    "mylist.reverse()\n",
    "print(mylist)"
   ]
  },
  {
   "cell_type": "code",
   "execution_count": null,
   "id": "0459ea48-7bb2-4a37-8587-d8e8facc6152",
   "metadata": {},
   "outputs": [],
   "source": []
  }
 ],
 "metadata": {
  "kernelspec": {
   "display_name": "Python 3 (ipykernel)",
   "language": "python",
   "name": "python3"
  },
  "language_info": {
   "codemirror_mode": {
    "name": "ipython",
    "version": 3
   },
   "file_extension": ".py",
   "mimetype": "text/x-python",
   "name": "python",
   "nbconvert_exporter": "python",
   "pygments_lexer": "ipython3",
   "version": "3.12.7"
  }
 },
 "nbformat": 4,
 "nbformat_minor": 5
}
