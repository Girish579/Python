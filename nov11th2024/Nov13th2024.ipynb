{
 "cells": [
  {
   "cell_type": "markdown",
   "id": "c555049e-e77e-4034-9abe-b10ea4baea8f",
   "metadata": {
    "editable": true,
    "slideshow": {
     "slide_type": ""
    },
    "tags": []
   },
   "source": [
    "# Welcome to Python Programming"
   ]
  },
  {
   "cell_type": "code",
   "execution_count": 2,
   "id": "02f0b5c8-28aa-4e16-b0dc-1c7cd2c82327",
   "metadata": {},
   "outputs": [
    {
     "name": "stdout",
     "output_type": "stream",
     "text": [
      "hello\n"
     ]
    }
   ],
   "source": [
    "print(\"hello\") "
   ]
  },
  {
   "cell_type": "markdown",
   "id": "0110103a-e8df-4f5c-b3ee-7eddd284ddaa",
   "metadata": {},
   "source": [
    "# If Syntax"
   ]
  },
  {
   "cell_type": "code",
   "execution_count": 4,
   "id": "32592507-2a58-4e49-b151-585187989bcf",
   "metadata": {},
   "outputs": [
    {
     "name": "stdout",
     "output_type": "stream",
     "text": [
      "6 is greater then 3\n"
     ]
    }
   ],
   "source": [
    "if 6 > 3 :\n",
    "    print(\"6 is greater then 3\")     # Press Shift  and Enter Keys"
   ]
  },
  {
   "cell_type": "raw",
   "id": "d90b4cbd-e72a-43e8-8e0c-ef1136a1ba0a",
   "metadata": {},
   "source": [
    "Notes Notes Notes\n",
    "Notes Notes Notes\n",
    "Notes Notes Notes"
   ]
  },
  {
   "cell_type": "code",
   "execution_count": 1,
   "id": "cf86ad0e-4ef4-4ea6-98fc-278a277435eb",
   "metadata": {
    "editable": true,
    "slideshow": {
     "slide_type": ""
    },
    "tags": []
   },
   "outputs": [],
   "source": [
    "# To Install Jupyter Lab Software => pip install jupyterlab\n",
    "# Run the Jupyter Lab => jupyter lab"
   ]
  },
  {
   "cell_type": "code",
   "execution_count": 5,
   "id": "4f35271a-8113-4617-b9d2-63bf70269248",
   "metadata": {},
   "outputs": [
    {
     "name": "stdout",
     "output_type": "stream",
     "text": [
      "Python 3.13.0\n"
     ]
    }
   ],
   "source": [
    "! python --version"
   ]
  },
  {
   "cell_type": "code",
   "execution_count": 6,
   "id": "75328b31-ae85-4f52-96bc-e3cc334ae9a3",
   "metadata": {},
   "outputs": [
    {
     "name": "stderr",
     "output_type": "stream",
     "text": [
      "python: can't open file 'C:\\\\Users\\\\Girish\\\\OneDrive\\\\Desktop\\\\Master Python - Nov 11th 2023\\\\helloworld.py': [Errno 2] No such file or directory\n"
     ]
    }
   ],
   "source": [
    "! python helloworld.py"
   ]
  },
  {
   "cell_type": "code",
   "execution_count": null,
   "id": "30dd9500-ca3d-49c4-89fe-6549f8215b09",
   "metadata": {},
   "outputs": [],
   "source": []
  },
  {
   "cell_type": "code",
   "execution_count": null,
   "id": "f1bd5e85-7163-4535-a3aa-36b27104bff2",
   "metadata": {},
   "outputs": [],
   "source": []
  }
 ],
 "metadata": {
  "kernelspec": {
   "display_name": "Python 3 (ipykernel)",
   "language": "python",
   "name": "python3"
  },
  "language_info": {
   "codemirror_mode": {
    "name": "ipython",
    "version": 3
   },
   "file_extension": ".py",
   "mimetype": "text/x-python",
   "name": "python",
   "nbconvert_exporter": "python",
   "pygments_lexer": "ipython3",
   "version": "3.12.7"
  }
 },
 "nbformat": 4,
 "nbformat_minor": 5
}
