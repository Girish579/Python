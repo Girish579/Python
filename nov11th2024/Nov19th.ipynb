{
 "cells": [
  {
   "cell_type": "markdown",
   "id": "6cd36e79-c8ae-4dc3-bbc3-adc3ac85737d",
   "metadata": {},
   "source": [
    "### Escape Characters"
   ]
  },
  {
   "cell_type": "code",
   "execution_count": 1,
   "id": "7677cb36-f736-4da2-97a8-07c4805f3943",
   "metadata": {},
   "outputs": [
    {
     "ename": "SyntaxError",
     "evalue": "invalid syntax (752483032.py, line 1)",
     "output_type": "error",
     "traceback": [
      "\u001b[1;36m  Cell \u001b[1;32mIn[1], line 1\u001b[1;36m\u001b[0m\n\u001b[1;33m    txt = \"I am very \"Happy\" today\"\u001b[0m\n\u001b[1;37m                      ^\u001b[0m\n\u001b[1;31mSyntaxError\u001b[0m\u001b[1;31m:\u001b[0m invalid syntax\n"
     ]
    }
   ],
   "source": [
    "txt = \"I am very \"Happy\" today\"\n",
    "print(txt)"
   ]
  },
  {
   "cell_type": "code",
   "execution_count": 2,
   "id": "0bf2960b-d8e0-4242-ad67-2f50adb966b2",
   "metadata": {},
   "outputs": [
    {
     "name": "stdout",
     "output_type": "stream",
     "text": [
      "I am very \"Happy\" today\n"
     ]
    }
   ],
   "source": [
    "txt = \"I am very \\\"Happy\\\" today\"\n",
    "print(txt)"
   ]
  },
  {
   "cell_type": "code",
   "execution_count": 3,
   "id": "841e1a38-5158-4573-bfe1-b294f76bd2b2",
   "metadata": {},
   "outputs": [
    {
     "name": "stdout",
     "output_type": "stream",
     "text": [
      "I am very 'Happy' today\n"
     ]
    }
   ],
   "source": [
    "txt = \"I am very \\'Happy\\' today\"\n",
    "print(txt)"
   ]
  },
  {
   "cell_type": "code",
   "execution_count": 4,
   "id": "dd17c442-4d81-48ac-a8bc-5b126bd04e88",
   "metadata": {},
   "outputs": [
    {
     "name": "stdout",
     "output_type": "stream",
     "text": [
      " I am very \n",
      " Happy today\n"
     ]
    }
   ],
   "source": [
    "txt = \" I am very \\n Happy today\"\n",
    "print(txt)"
   ]
  },
  {
   "cell_type": "code",
   "execution_count": 5,
   "id": "bd0b07b4-92f5-439b-9ab7-46f722b42657",
   "metadata": {},
   "outputs": [
    {
     "name": "stdout",
     "output_type": "stream",
     "text": [
      "I am very\tHappy today\n"
     ]
    }
   ],
   "source": [
    "txt = \"I am very\\tHappy today\"\n",
    "print(txt)"
   ]
  },
  {
   "cell_type": "code",
   "execution_count": 6,
   "id": "25524de4-7e32-4240-86f3-9e2c9aa0b3b2",
   "metadata": {},
   "outputs": [
    {
     "name": "stdout",
     "output_type": "stream",
     "text": [
      "My name is Girish, I am 30 \n"
     ]
    }
   ],
   "source": [
    "txt = \"My name is {fname}, I am {age} \".format(fname = \"Girish\", age = 30)\n",
    "print(txt)"
   ]
  },
  {
   "cell_type": "markdown",
   "id": "adfc745b-40ae-46d6-b83a-14761a0fc0e8",
   "metadata": {},
   "source": [
    "### Python Operators"
   ]
  },
  {
   "cell_type": "markdown",
   "id": "39225ae0-7752-4d22-86a3-9ad59b380ff2",
   "metadata": {},
   "source": [
    "#### Comparision Operators"
   ]
  },
  {
   "cell_type": "raw",
   "id": "4413949d-274d-48d7-a1ac-4244b9ff7522",
   "metadata": {},
   "source": [
    "== \n",
    "!=\n",
    ">\n",
    "<\n",
    ">=\n",
    "<="
   ]
  },
  {
   "cell_type": "code",
   "execution_count": 7,
   "id": "437c1da9-dcc2-4e93-9e84-a6991f0aa6fe",
   "metadata": {},
   "outputs": [
    {
     "name": "stdout",
     "output_type": "stream",
     "text": [
      "False\n"
     ]
    }
   ],
   "source": [
    "x = 10\n",
    "y = 20\n",
    "print(x == y)"
   ]
  },
  {
   "cell_type": "code",
   "execution_count": 8,
   "id": "9ab3b626-0b7e-45c5-8113-54046318f28b",
   "metadata": {},
   "outputs": [
    {
     "name": "stdout",
     "output_type": "stream",
     "text": [
      " Both are not equal\n"
     ]
    }
   ],
   "source": [
    "if x == y :\n",
    "    print(\" Both are equal \")\n",
    "else :\n",
    "    print(\" Both are not equal\")"
   ]
  },
  {
   "cell_type": "code",
   "execution_count": 9,
   "id": "2f50e078-772c-424b-b783-b2f905576e2b",
   "metadata": {},
   "outputs": [
    {
     "name": "stdout",
     "output_type": "stream",
     "text": [
      "True\n"
     ]
    }
   ],
   "source": [
    "x = 10\n",
    "y = 20\n",
    "print(x != y)"
   ]
  },
  {
   "cell_type": "code",
   "execution_count": 10,
   "id": "71afc1e9-dd71-44da-9586-4c83e90edfd4",
   "metadata": {},
   "outputs": [
    {
     "name": "stdout",
     "output_type": "stream",
     "text": [
      " True \n"
     ]
    }
   ],
   "source": [
    "if x != y :\n",
    "    print(\" True \")\n",
    "else :\n",
    "    print(\" False\")"
   ]
  },
  {
   "cell_type": "markdown",
   "id": "6851e918-0398-4269-b81c-d97db659047a",
   "metadata": {},
   "source": [
    "#### Logical Operators"
   ]
  },
  {
   "cell_type": "raw",
   "id": "d9147935-d085-4a1d-b804-8c268eb86284",
   "metadata": {},
   "source": [
    "and\n",
    "or\n",
    "not"
   ]
  },
  {
   "cell_type": "code",
   "execution_count": 15,
   "id": "3c98aad9-fc4d-48db-a6f0-a8abcffd19e9",
   "metadata": {},
   "outputs": [
    {
     "name": "stdout",
     "output_type": "stream",
     "text": [
      "True\n"
     ]
    }
   ],
   "source": [
    "x = 5\n",
    "print(x > 3 and x < 10)  # Returns True if both the statements are true"
   ]
  },
  {
   "cell_type": "code",
   "execution_count": 16,
   "id": "42017d9b-801b-41d6-9987-aa3d1382e40f",
   "metadata": {},
   "outputs": [
    {
     "name": "stdout",
     "output_type": "stream",
     "text": [
      "True\n"
     ]
    }
   ],
   "source": [
    "x = 5\n",
    "print(x > 3 or x < 4) # Returns True if one of he statements are true"
   ]
  },
  {
   "cell_type": "code",
   "execution_count": 14,
   "id": "57388435-2f5e-403b-8e02-b14f2869bbe3",
   "metadata": {},
   "outputs": [
    {
     "name": "stdout",
     "output_type": "stream",
     "text": [
      "False\n"
     ]
    }
   ],
   "source": [
    "x  = 5\n",
    "print(not(x > 3 and x < 10)) # Reverse the result, returns False if the result is true"
   ]
  },
  {
   "cell_type": "markdown",
   "id": "043be43d-cd1b-47d8-a477-212340972953",
   "metadata": {},
   "source": [
    "#### Identity Operators"
   ]
  },
  {
   "cell_type": "raw",
   "id": "6d361709-2125-4fc4-84eb-1a869a9119f2",
   "metadata": {},
   "source": [
    "Identity Operators are used to compare the Objects\n",
    "is  => Returns True if both variables are the same object\n",
    "is not => Returns True if both variable are not same object"
   ]
  },
  {
   "cell_type": "code",
   "execution_count": 17,
   "id": "043010ee-dc7d-4369-8864-aaebe181f716",
   "metadata": {},
   "outputs": [
    {
     "name": "stdout",
     "output_type": "stream",
     "text": [
      "True\n",
      "False\n",
      "True\n"
     ]
    }
   ],
   "source": [
    "x = [\"Grapes\",\"Papaya\"]\n",
    "y = [\"Grapes\",\"Papaya\"]\n",
    "z = x\n",
    "print( x is z)\n",
    "\n",
    "print( x is y)\n",
    "\n",
    "print( x == y)"
   ]
  },
  {
   "cell_type": "code",
   "execution_count": 18,
   "id": "f4e7818b-5899-4f5b-a5e2-4634c0bdcd88",
   "metadata": {},
   "outputs": [
    {
     "data": {
      "text/plain": [
       "2025338823232"
      ]
     },
     "execution_count": 18,
     "metadata": {},
     "output_type": "execute_result"
    }
   ],
   "source": [
    "id(x)"
   ]
  },
  {
   "cell_type": "code",
   "execution_count": 19,
   "id": "77396936-3891-48e5-8e15-a3464a229e44",
   "metadata": {},
   "outputs": [
    {
     "name": "stdout",
     "output_type": "stream",
     "text": [
      "2025338823232\n"
     ]
    }
   ],
   "source": [
    "print(id(x))"
   ]
  },
  {
   "cell_type": "code",
   "execution_count": 20,
   "id": "73c45b06-4546-47b4-b3de-1bea65352096",
   "metadata": {},
   "outputs": [
    {
     "name": "stdout",
     "output_type": "stream",
     "text": [
      "2025338852352\n"
     ]
    }
   ],
   "source": [
    "print(id(y))"
   ]
  },
  {
   "cell_type": "code",
   "execution_count": 21,
   "id": "4fcbf862-1cee-4851-861f-ff5ea64f5696",
   "metadata": {},
   "outputs": [
    {
     "name": "stdout",
     "output_type": "stream",
     "text": [
      "2025338823232\n"
     ]
    }
   ],
   "source": [
    "print(id(z))"
   ]
  },
  {
   "cell_type": "code",
   "execution_count": 22,
   "id": "30bc2ff1-3052-4fab-942a-410b8f6e4bce",
   "metadata": {},
   "outputs": [
    {
     "name": "stdout",
     "output_type": "stream",
     "text": [
      "0x1d78f99e240\n"
     ]
    }
   ],
   "source": [
    "print(hex(id(x)))"
   ]
  },
  {
   "cell_type": "raw",
   "id": "68ae8e46-7361-461a-ac3b-e876d2029412",
   "metadata": {},
   "source": [
    "id(x) => Returns a unique identifier for the object, which is its memory address in Python Implementation\n",
    "hex(id(x)) => Converts the decimal memory address to a hexadecimal representation"
   ]
  },
  {
   "cell_type": "markdown",
   "id": "be49c3bf-a7a2-4c4d-b89d-7af0361f88d1",
   "metadata": {},
   "source": [
    "#### Membership Operators"
   ]
  },
  {
   "cell_type": "raw",
   "id": "2d45e822-5fe2-433c-bbfa-fd9488cc8b78",
   "metadata": {},
   "source": [
    "Membership operators are used to test if the sequence is presented in the object\n",
    "in => Returns True if a sequence with the specified value is present in the object\n",
    "not in => Returns True if a sequence with the specified value is not present in the object"
   ]
  },
  {
   "cell_type": "code",
   "execution_count": 23,
   "id": "603873e5-ce82-4dd4-a8b2-d7ca305df191",
   "metadata": {},
   "outputs": [
    {
     "name": "stdout",
     "output_type": "stream",
     "text": [
      "True\n"
     ]
    }
   ],
   "source": [
    "x = [\"Mango\", \"Banana\"]\n",
    "print(\"Banana\" in x )"
   ]
  },
  {
   "cell_type": "code",
   "execution_count": 24,
   "id": "f08f727e-6d14-4ccd-a8af-370c697e9c31",
   "metadata": {},
   "outputs": [
    {
     "name": "stdout",
     "output_type": "stream",
     "text": [
      "False\n"
     ]
    }
   ],
   "source": [
    "x = [\"Mango\", \"Banana\"]\n",
    "print(\"Grapes\" in x )"
   ]
  },
  {
   "cell_type": "markdown",
   "id": "716e2e5b-0f8d-4c9e-9d23-629577f78f26",
   "metadata": {},
   "source": [
    "### List, Tuple, Sets and Dictionaries"
   ]
  },
  {
   "cell_type": "markdown",
   "id": "5bf90d12-7a4a-43b3-bc35-8240abf1048d",
   "metadata": {},
   "source": [
    "### List"
   ]
  },
  {
   "cell_type": "raw",
   "id": "ea8a454f-bdeb-41dc-aa2f-702743515cd7",
   "metadata": {},
   "source": [
    "Lists are used to store multiple values (items) in a single variable"
   ]
  },
  {
   "cell_type": "raw",
   "id": "039b15ca-1941-4739-a132-44e441128d50",
   "metadata": {},
   "source": [
    "Lists are created using Square Brackets [] or using a List Constructor list()"
   ]
  },
  {
   "cell_type": "raw",
   "id": "ae54f090-27f8-4053-adcf-305509dcdd60",
   "metadata": {},
   "source": [
    "Lists are ORDERED, CHANGEABLE, ALLOW DUPLICATES"
   ]
  },
  {
   "cell_type": "raw",
   "id": "b7fc8915-0e40-4ba3-be01-b16317a68b4d",
   "metadata": {},
   "source": [
    "Lists items are INDEXED, the first item has the index [0], second item has index [1]"
   ]
  },
  {
   "cell_type": "raw",
   "id": "deddd61c-3462-4aa6-ac46-85ca5a09d0c7",
   "metadata": {},
   "source": [
    "ORDERED => ITEMS have a defined order, and that order will not change. If you add any new items to a list, the new items will be placed at the end of the list"
   ]
  },
  {
   "cell_type": "raw",
   "id": "b80f4113-6e1b-4819-8c5d-18305f0250b6",
   "metadata": {},
   "source": [
    "CHANGEABLE => We change, add and remove items after the list has been created"
   ]
  },
  {
   "cell_type": "raw",
   "id": "c9f6456d-02e4-4e8a-9e91-dee612157cdf",
   "metadata": {},
   "source": [
    "ALLOW DUPLICATEs => As lists are indexed, lists can have items with the same value"
   ]
  },
  {
   "cell_type": "raw",
   "id": "0baadbfd-bb02-4bf6-8191-2a65df874089",
   "metadata": {},
   "source": [
    "List items can have any data type"
   ]
  },
  {
   "cell_type": "code",
   "execution_count": 29,
   "id": "be3742ff-811b-4bf9-8128-1719233be092",
   "metadata": {},
   "outputs": [
    {
     "name": "stdout",
     "output_type": "stream",
     "text": [
      "['Apple', 'Banana', 'Orange']\n"
     ]
    }
   ],
   "source": [
    "myList = [\"Apple\",\"Banana\",\"Orange\"]\n",
    "print(myList)"
   ]
  },
  {
   "cell_type": "code",
   "execution_count": 30,
   "id": "c99944d0-09fa-41d0-a4c6-fb5a1c3f0ef8",
   "metadata": {},
   "outputs": [
    {
     "name": "stdout",
     "output_type": "stream",
     "text": [
      "3\n"
     ]
    }
   ],
   "source": [
    "print(len(myList)) # List Length"
   ]
  },
  {
   "cell_type": "code",
   "execution_count": 40,
   "id": "13013c2b-92f9-4c50-9291-dc4b01a061c7",
   "metadata": {},
   "outputs": [
    {
     "name": "stdout",
     "output_type": "stream",
     "text": [
      "['one', 'two', 'three']\n",
      "[1, 2, 3, 4, 5, 6]\n",
      "[True, False, True]\n",
      "['one', 1, True, 2.5, (2+4j)]\n",
      "<class 'list'>\n"
     ]
    }
   ],
   "source": [
    "mylist1 = [\"one\",\"two\",\"three\"] # String Data Type\n",
    "mylist2 = [1,2,3,4,5,6] # Numerical Data Type\n",
    "mylist3 = [True,False, True] # Boolean\n",
    "mylist4 = [\"one\",1,True,2.5, 2+4j] # Multiple Data Types\n",
    "print(mylist1)\n",
    "print(mylist2)\n",
    "print(mylist3)\n",
    "print(mylist4)\n",
    "\n",
    "print(type(mylist1))\n",
    "\n"
   ]
  },
  {
   "cell_type": "code",
   "execution_count": 41,
   "id": "193143d4-7f09-4ec7-8d5c-869daeabec44",
   "metadata": {},
   "outputs": [
    {
     "name": "stdout",
     "output_type": "stream",
     "text": [
      "['apple', 'banana', 'mango']\n"
     ]
    }
   ],
   "source": [
    "mylist = list((\"apple\",\"banana\",\"mango\")) # Using List Constructor\n",
    "print(mylist)"
   ]
  },
  {
   "cell_type": "markdown",
   "id": "54c85f4f-b691-4a24-809e-a48186d9926a",
   "metadata": {},
   "source": [
    "#### List Access"
   ]
  },
  {
   "cell_type": "code",
   "execution_count": 43,
   "id": "806eba6e-8e78-4afa-9dab-17650ab40d71",
   "metadata": {},
   "outputs": [
    {
     "name": "stdout",
     "output_type": "stream",
     "text": [
      "two\n"
     ]
    }
   ],
   "source": [
    "mylist = [\"apple\",\"One\",\"banana\",\"two\"]\n",
    "print(mylist[3])"
   ]
  },
  {
   "cell_type": "code",
   "execution_count": 44,
   "id": "8d46aea7-31fd-47e3-9ef4-7eeeb3631ca3",
   "metadata": {},
   "outputs": [
    {
     "ename": "IndexError",
     "evalue": "list index out of range",
     "output_type": "error",
     "traceback": [
      "\u001b[1;31m---------------------------------------------------------------------------\u001b[0m",
      "\u001b[1;31mIndexError\u001b[0m                                Traceback (most recent call last)",
      "Cell \u001b[1;32mIn[44], line 1\u001b[0m\n\u001b[1;32m----> 1\u001b[0m \u001b[38;5;28mprint\u001b[39m(\u001b[43mmylist\u001b[49m\u001b[43m[\u001b[49m\u001b[38;5;241;43m4\u001b[39;49m\u001b[43m]\u001b[49m)\n",
      "\u001b[1;31mIndexError\u001b[0m: list index out of range"
     ]
    }
   ],
   "source": [
    "print(mylist[4])"
   ]
  },
  {
   "cell_type": "code",
   "execution_count": 47,
   "id": "e7ddf2bc-bd98-4b21-ae65-90f4f997dc34",
   "metadata": {},
   "outputs": [
    {
     "name": "stdout",
     "output_type": "stream",
     "text": [
      "two\n"
     ]
    }
   ],
   "source": [
    "print(mylist[-1])  # -1 represents 1st last item, -2 represents second last item"
   ]
  },
  {
   "cell_type": "code",
   "execution_count": 46,
   "id": "41afae96-b5e8-43d4-bf32-e0dcdf150ba5",
   "metadata": {},
   "outputs": [
    {
     "name": "stdout",
     "output_type": "stream",
     "text": [
      "apple\n"
     ]
    }
   ],
   "source": [
    "print(mylist[-4])"
   ]
  },
  {
   "cell_type": "markdown",
   "id": "439d913d-dc69-4c66-aa7c-4253114ccac7",
   "metadata": {},
   "source": [
    "#### Range of Indexes"
   ]
  },
  {
   "cell_type": "code",
   "execution_count": 51,
   "id": "3174ed64-80c5-4ab1-8b90-cfb2381eca4c",
   "metadata": {},
   "outputs": [
    {
     "name": "stdout",
     "output_type": "stream",
     "text": [
      "['banana', 'two', 'apple']\n"
     ]
    }
   ],
   "source": [
    "mylist = [\"apple\",\"One\",\"banana\",\"two\",\"apple\",\"One\",\"banana\",\"two\"]\n",
    "print(mylist[2:5]) \n",
    "# We are specifying a range of index by giving where to start and where to end the range.\n",
    "# The search will start at the index 2 (included) and the end at the index 5 (not included)"
   ]
  },
  {
   "cell_type": "code",
   "execution_count": 52,
   "id": "3666c30e-0ef2-47ed-be8e-80e65a78e84e",
   "metadata": {},
   "outputs": [
    {
     "name": "stdout",
     "output_type": "stream",
     "text": [
      "['apple', 'One', 'banana', 'two']\n"
     ]
    }
   ],
   "source": [
    "# If we want to return the items from the beginning to, but NOT including\n",
    "print(mylist[:4])"
   ]
  },
  {
   "cell_type": "code",
   "execution_count": 53,
   "id": "a7e16477-55e3-4621-88a8-6915d57a2eb9",
   "metadata": {},
   "outputs": [
    {
     "name": "stdout",
     "output_type": "stream",
     "text": [
      "['banana', 'two', 'apple', 'One', 'banana', 'two']\n"
     ]
    }
   ],
   "source": [
    "print(mylist[2:])"
   ]
  },
  {
   "cell_type": "code",
   "execution_count": 54,
   "id": "6393434f-fcc2-4309-8074-eae64b095c94",
   "metadata": {},
   "outputs": [
    {
     "name": "stdout",
     "output_type": "stream",
     "text": [
      "['apple', 'One', 'banana']\n"
     ]
    }
   ],
   "source": [
    "print(mylist[-4:-1])"
   ]
  },
  {
   "cell_type": "code",
   "execution_count": null,
   "id": "a9f0e61e-73d7-4341-9846-f534a14d2742",
   "metadata": {},
   "outputs": [],
   "source": []
  }
 ],
 "metadata": {
  "kernelspec": {
   "display_name": "Python 3 (ipykernel)",
   "language": "python",
   "name": "python3"
  },
  "language_info": {
   "codemirror_mode": {
    "name": "ipython",
    "version": 3
   },
   "file_extension": ".py",
   "mimetype": "text/x-python",
   "name": "python",
   "nbconvert_exporter": "python",
   "pygments_lexer": "ipython3",
   "version": "3.12.7"
  }
 },
 "nbformat": 4,
 "nbformat_minor": 5
}
