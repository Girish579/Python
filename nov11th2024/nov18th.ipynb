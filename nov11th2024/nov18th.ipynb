{
 "cells": [
  {
   "cell_type": "code",
   "execution_count": 1,
   "id": "f9b7fb4c-f03f-4297-b206-f0bf9e49b3d8",
   "metadata": {},
   "outputs": [
    {
     "name": "stdout",
     "output_type": "stream",
     "text": [
      "GIRISH CHANDRA\n"
     ]
    }
   ],
   "source": [
    "name = \"Girish Chandra\"\n",
    "print(name.upper())"
   ]
  },
  {
   "cell_type": "code",
   "execution_count": 2,
   "id": "bff77711-6ead-48f5-8481-41f37afb9d92",
   "metadata": {},
   "outputs": [
    {
     "name": "stdout",
     "output_type": "stream",
     "text": [
      "girish chandra\n"
     ]
    }
   ],
   "source": [
    "name = \"GIRISH chanDRA\"\n",
    "print(name.lower())"
   ]
  },
  {
   "cell_type": "code",
   "execution_count": 3,
   "id": "1e8ce50f-55b8-4239-a254-6cb7ef534d54",
   "metadata": {},
   "outputs": [
    {
     "name": "stdout",
     "output_type": "stream",
     "text": [
      "23\n"
     ]
    }
   ],
   "source": [
    "name = \"Girish Chandra         \"\n",
    "print(len(name))"
   ]
  },
  {
   "cell_type": "code",
   "execution_count": 8,
   "id": "04345081-2795-40bd-bc58-501eacca62d5",
   "metadata": {},
   "outputs": [
    {
     "name": "stdout",
     "output_type": "stream",
     "text": [
      "Girish Chandra\n",
      "Girish Chandra         \n",
      "14\n",
      "23\n"
     ]
    }
   ],
   "source": [
    "# Remove Whitespace\n",
    "name1 = \"Girish Chandra         \"\n",
    "print(name1.strip())\n",
    "print(name1)\n",
    "print(len(name1.strip()))\n",
    "print(len(name1))\n"
   ]
  },
  {
   "cell_type": "code",
   "execution_count": 14,
   "id": "2734c36d-0cc5-4e0f-a005-b2e8cef5c354",
   "metadata": {},
   "outputs": [
    {
     "name": "stdout",
     "output_type": "stream",
     "text": [
      "Hello, World!,Welcome\n",
      "['Hello', ' World!', 'Welcome']\n"
     ]
    }
   ],
   "source": [
    "# Splitting the String\n",
    "x = \"Hello, World!,Welcome\"\n",
    "print(x)\n",
    "y = x.split(\",\")\n",
    "print(y)"
   ]
  },
  {
   "cell_type": "code",
   "execution_count": 15,
   "id": "4d2ee704-35de-4a26-9a1a-ede1422307e8",
   "metadata": {},
   "outputs": [
    {
     "name": "stdout",
     "output_type": "stream",
     "text": [
      "GirishChandra\n"
     ]
    }
   ],
   "source": [
    "# String Concatenation\n",
    "x = \"Girish\"\n",
    "y = \"Chandra\"\n",
    "z = x + y\n",
    "print(z)"
   ]
  },
  {
   "cell_type": "code",
   "execution_count": 16,
   "id": "d934c35c-672c-4269-a0f8-a6c061b4cd62",
   "metadata": {},
   "outputs": [
    {
     "name": "stdout",
     "output_type": "stream",
     "text": [
      "Girish Chandra\n"
     ]
    }
   ],
   "source": [
    "z = x + \" \" + y\n",
    "print(z)"
   ]
  },
  {
   "cell_type": "code",
   "execution_count": 17,
   "id": "daf181ce-193c-4f83-847f-85ca965e77db",
   "metadata": {},
   "outputs": [
    {
     "ename": "TypeError",
     "evalue": "can only concatenate str (not \"int\") to str",
     "output_type": "error",
     "traceback": [
      "\u001b[1;31m---------------------------------------------------------------------------\u001b[0m",
      "\u001b[1;31mTypeError\u001b[0m                                 Traceback (most recent call last)",
      "Cell \u001b[1;32mIn[17], line 3\u001b[0m\n\u001b[0;32m      1\u001b[0m \u001b[38;5;66;03m# String Formatting\u001b[39;00m\n\u001b[0;32m      2\u001b[0m age \u001b[38;5;241m=\u001b[39m \u001b[38;5;241m30\u001b[39m\n\u001b[1;32m----> 3\u001b[0m txt \u001b[38;5;241m=\u001b[39m \u001b[38;5;124;43m\"\u001b[39;49m\u001b[38;5;124;43mMy name is Girish, I am \u001b[39;49m\u001b[38;5;124;43m\"\u001b[39;49m\u001b[43m \u001b[49m\u001b[38;5;241;43m+\u001b[39;49m\u001b[43m \u001b[49m\u001b[43mage\u001b[49m\n\u001b[0;32m      4\u001b[0m \u001b[38;5;28mprint\u001b[39m(txt)\n",
      "\u001b[1;31mTypeError\u001b[0m: can only concatenate str (not \"int\") to str"
     ]
    }
   ],
   "source": [
    "# String Formatting\n",
    "age = 30\n",
    "txt = \"My name is Girish, I am \" + age\n",
    "print(txt)"
   ]
  },
  {
   "cell_type": "code",
   "execution_count": 18,
   "id": "10d37bd4-d60c-46c1-b778-3c1e1840dcbb",
   "metadata": {},
   "outputs": [
    {
     "name": "stdout",
     "output_type": "stream",
     "text": [
      "My name is Girish, I am 30\n"
     ]
    }
   ],
   "source": [
    "txt = \"My name is Girish, I am \" + str(age)\n",
    "print(txt)"
   ]
  },
  {
   "cell_type": "code",
   "execution_count": 19,
   "id": "50c032d5-5ecf-4b7a-b2c9-3db2c998ae1b",
   "metadata": {},
   "outputs": [
    {
     "name": "stdout",
     "output_type": "stream",
     "text": [
      "My name is Girish, I am 30\n"
     ]
    }
   ],
   "source": [
    "# Formatted Strings\n",
    "age = 30\n",
    "txt = f\"My name is Girish, I am {age}\"\n",
    "print(txt)"
   ]
  },
  {
   "cell_type": "code",
   "execution_count": 20,
   "id": "553270cd-bffa-4a40-a5f1-ea221ad324ee",
   "metadata": {},
   "outputs": [
    {
     "name": "stdout",
     "output_type": "stream",
     "text": [
      "My Salary is 80 Lakhs\n"
     ]
    }
   ],
   "source": [
    "Salary = 80\n",
    "txt = f\"My Salary is {Salary} Lakhs\"\n",
    "print(txt)"
   ]
  },
  {
   "cell_type": "code",
   "execution_count": 22,
   "id": "06043888-ed81-4951-8b36-afbb12c79129",
   "metadata": {},
   "outputs": [
    {
     "name": "stdout",
     "output_type": "stream",
     "text": [
      "My Salary is 80.00 Lakhs\n"
     ]
    }
   ],
   "source": [
    "Salary = 80\n",
    "txt = f\"My Salary is {Salary:.2f} Lakhs\"\n",
    "print(txt)"
   ]
  },
  {
   "cell_type": "code",
   "execution_count": 23,
   "id": "e2cb69e1-d81c-4828-b508-d760bd2a2601",
   "metadata": {},
   "outputs": [
    {
     "name": "stdout",
     "output_type": "stream",
     "text": [
      "My Salary is 160 Lakhs\n"
     ]
    }
   ],
   "source": [
    "txt = f\"My Salary is {80 * 2 } Lakhs\"\n",
    "print(txt)"
   ]
  },
  {
   "cell_type": "raw",
   "id": "1fb2f46c-06dd-4d00-83e2-6ef475c41956",
   "metadata": {},
   "source": [
    "# if x = 9, what is the correct syntax to print \"The price is 9.00 USD\"\n",
    "1) print(f'The price is {x:2f} dollars')\n",
    "2) print(f'The price is {x:2} dollars')\n",
    "3) print(f'The price is {x:format(2)} dollars')"
   ]
  },
  {
   "cell_type": "code",
   "execution_count": 24,
   "id": "a6d8abef-134c-4969-bb5b-20b9aa92c2b0",
   "metadata": {},
   "outputs": [
    {
     "ename": "NameError",
     "evalue": "name 'printf' is not defined",
     "output_type": "error",
     "traceback": [
      "\u001b[1;31m---------------------------------------------------------------------------\u001b[0m",
      "\u001b[1;31mNameError\u001b[0m                                 Traceback (most recent call last)",
      "Cell \u001b[1;32mIn[24], line 2\u001b[0m\n\u001b[0;32m      1\u001b[0m x \u001b[38;5;241m=\u001b[39m \u001b[38;5;241m9\u001b[39m\n\u001b[1;32m----> 2\u001b[0m \u001b[43mprintf\u001b[49m(\u001b[38;5;124mf\u001b[39m\u001b[38;5;124m'\u001b[39m\u001b[38;5;124mThe price is \u001b[39m\u001b[38;5;132;01m{\u001b[39;00mx\u001b[38;5;132;01m:\u001b[39;00m\u001b[38;5;124m2f\u001b[39m\u001b[38;5;132;01m}\u001b[39;00m\u001b[38;5;124m dollars\u001b[39m\u001b[38;5;124m'\u001b[39m)\n",
      "\u001b[1;31mNameError\u001b[0m: name 'printf' is not defined"
     ]
    }
   ],
   "source": [
    "x = 9\n",
    "printf(f'The price is {x:2f} dollars')"
   ]
  },
  {
   "cell_type": "code",
   "execution_count": 28,
   "id": "2a34c959-cd66-4cd1-b9b3-0a755e538340",
   "metadata": {},
   "outputs": [
    {
     "name": "stdout",
     "output_type": "stream",
     "text": [
      "The price is 9.000000 dollars\n"
     ]
    }
   ],
   "source": [
    "print(f'The price is {x:2f} dollars')"
   ]
  },
  {
   "cell_type": "code",
   "execution_count": 26,
   "id": "1a1803b8-2e8e-42e4-ba05-3fc6f698c5fc",
   "metadata": {},
   "outputs": [
    {
     "name": "stdout",
     "output_type": "stream",
     "text": [
      "The price is  9 dollars\n"
     ]
    }
   ],
   "source": [
    "print(f'The price is {x:2} dollars')"
   ]
  },
  {
   "cell_type": "code",
   "execution_count": 27,
   "id": "019a9193-d67f-4376-ae10-b6e288fdaaa3",
   "metadata": {},
   "outputs": [
    {
     "ename": "ValueError",
     "evalue": "Invalid format specifier 'format(2)' for object of type 'int'",
     "output_type": "error",
     "traceback": [
      "\u001b[1;31m---------------------------------------------------------------------------\u001b[0m",
      "\u001b[1;31mValueError\u001b[0m                                Traceback (most recent call last)",
      "Cell \u001b[1;32mIn[27], line 1\u001b[0m\n\u001b[1;32m----> 1\u001b[0m \u001b[38;5;28mprint\u001b[39m(\u001b[38;5;124mf\u001b[39m\u001b[38;5;124m'\u001b[39m\u001b[38;5;124mThe price is \u001b[39m\u001b[38;5;132;43;01m{\u001b[39;49;00m\u001b[43mx\u001b[49m\u001b[38;5;132;43;01m:\u001b[39;49;00m\u001b[38;5;124;43mformat(2)\u001b[39;49m\u001b[38;5;132;43;01m}\u001b[39;49;00m\u001b[38;5;124m dollars\u001b[39m\u001b[38;5;124m'\u001b[39m)\n",
      "\u001b[1;31mValueError\u001b[0m: Invalid format specifier 'format(2)' for object of type 'int'"
     ]
    }
   ],
   "source": [
    "print(f'The price is {x:format(2)} dollars')"
   ]
  },
  {
   "cell_type": "code",
   "execution_count": null,
   "id": "73edd6f4-0d40-4929-9ba8-815696b1fa14",
   "metadata": {},
   "outputs": [],
   "source": [
    "# Knowledge Check of 10 questions I am sharing today, you guys needs to submit by Tuesday EOD\n",
    "# I am sharing a google form"
   ]
  }
 ],
 "metadata": {
  "kernelspec": {
   "display_name": "Python 3 (ipykernel)",
   "language": "python",
   "name": "python3"
  },
  "language_info": {
   "codemirror_mode": {
    "name": "ipython",
    "version": 3
   },
   "file_extension": ".py",
   "mimetype": "text/x-python",
   "name": "python",
   "nbconvert_exporter": "python",
   "pygments_lexer": "ipython3",
   "version": "3.12.7"
  }
 },
 "nbformat": 4,
 "nbformat_minor": 5
}
