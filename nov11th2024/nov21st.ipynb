{
 "cells": [
  {
   "cell_type": "markdown",
   "id": "bfb2bf92-71e8-4e52-99b6-b7500fd3971e",
   "metadata": {},
   "source": [
    "### List Comphrehension"
   ]
  },
  {
   "cell_type": "code",
   "execution_count": 1,
   "id": "48fbdf6e-a4e2-41c6-8160-8e73563b1787",
   "metadata": {},
   "outputs": [
    {
     "name": "stdout",
     "output_type": "stream",
     "text": [
      "one\n",
      "two\n",
      "three\n",
      "four\n",
      "five\n",
      "six\n"
     ]
    }
   ],
   "source": [
    "mylist = [\"one\",\"two\",\"three\",\"four\",\"five\",\"six\"]\n",
    "for x in mylist:\n",
    "    print(x)"
   ]
  },
  {
   "cell_type": "code",
   "execution_count": 2,
   "id": "6fdcb885-b5cb-4f31-b2c2-dd771a172d16",
   "metadata": {},
   "outputs": [
    {
     "name": "stdout",
     "output_type": "stream",
     "text": [
      "['two', 'three']\n"
     ]
    }
   ],
   "source": [
    "newlist = []\n",
    "for x in mylist:\n",
    "    if \"t\" in x:\n",
    "        newlist.append(x)\n",
    "print(newlist)"
   ]
  },
  {
   "cell_type": "code",
   "execution_count": 3,
   "id": "4b84ce73-e35a-4481-a5a3-efad7f2613a0",
   "metadata": {},
   "outputs": [
    {
     "name": "stdout",
     "output_type": "stream",
     "text": [
      "['two', 'three']\n"
     ]
    }
   ],
   "source": [
    "newlist2 = [x for x in mylist if \"t\" in x] # LIST COMPHREHENSION\n",
    "print(newlist2)"
   ]
  },
  {
   "cell_type": "code",
   "execution_count": 4,
   "id": "a5842cd4-f17d-42a9-8d8f-95173394f85b",
   "metadata": {},
   "outputs": [],
   "source": [
    "#newlist = [expression for item in iterable if condition == True]"
   ]
  },
  {
   "cell_type": "code",
   "execution_count": 5,
   "id": "6d7bde61-ea41-4873-9e34-7d284f69c63a",
   "metadata": {},
   "outputs": [
    {
     "name": "stdout",
     "output_type": "stream",
     "text": [
      "['one', 'three', 'four', 'five', 'six']\n"
     ]
    }
   ],
   "source": [
    "newlist3 = [ x for x in mylist if x !=\"two\"]\n",
    "print(newlist3)"
   ]
  },
  {
   "cell_type": "code",
   "execution_count": 6,
   "id": "bd7fbda8-5893-4e08-b132-7e50eb910498",
   "metadata": {},
   "outputs": [
    {
     "name": "stdout",
     "output_type": "stream",
     "text": [
      "['one', 'three', 'four', 'five', 'six']\n"
     ]
    }
   ],
   "source": [
    "newlist3 = [ y for y in mylist if y !=\"two\"]\n",
    "print(newlist3)"
   ]
  },
  {
   "cell_type": "code",
   "execution_count": 7,
   "id": "87b2df61-83c4-4e22-ab77-ed8ab6cddc31",
   "metadata": {},
   "outputs": [
    {
     "name": "stdout",
     "output_type": "stream",
     "text": [
      "one\n",
      "two\n",
      "three\n",
      "four\n",
      "five\n",
      "six\n"
     ]
    }
   ],
   "source": [
    "mylist = [\"one\",\"two\",\"three\",\"four\",\"five\",\"six\"]\n",
    "for x in mylist:\n",
    "    print(x)"
   ]
  },
  {
   "cell_type": "code",
   "execution_count": 8,
   "id": "94fcfea7-0f1a-4173-af81-0da4a593a2fb",
   "metadata": {},
   "outputs": [
    {
     "name": "stdout",
     "output_type": "stream",
     "text": [
      "['one', 'two', 'three', 'four', 'five', 'six']\n"
     ]
    }
   ],
   "source": [
    "newlist4 = [x for x in mylist]\n",
    "print(newlist4)"
   ]
  },
  {
   "cell_type": "code",
   "execution_count": 9,
   "id": "d240af6a-7dc7-49e3-a8ed-cbc8fe9960ec",
   "metadata": {},
   "outputs": [
    {
     "data": {
      "text/plain": [
       "range(0, 10)"
      ]
     },
     "execution_count": 9,
     "metadata": {},
     "output_type": "execute_result"
    }
   ],
   "source": [
    "range(10)"
   ]
  },
  {
   "cell_type": "code",
   "execution_count": 10,
   "id": "7e1575d2-8657-4c4c-ac08-ee39308c28a7",
   "metadata": {},
   "outputs": [
    {
     "name": "stdout",
     "output_type": "stream",
     "text": [
      "range(0, 10)\n"
     ]
    }
   ],
   "source": [
    "print(range(10))"
   ]
  },
  {
   "cell_type": "code",
   "execution_count": 11,
   "id": "03d99a86-2e7c-47be-9e4f-af25a13e1813",
   "metadata": {},
   "outputs": [
    {
     "name": "stdout",
     "output_type": "stream",
     "text": [
      "[0, 1, 2, 3, 4, 5, 6, 7, 8, 9]\n"
     ]
    }
   ],
   "source": [
    "newlist5 = [x for x in range(10)]\n",
    "print(newlist5)"
   ]
  },
  {
   "cell_type": "code",
   "execution_count": 12,
   "id": "ad5c63db-26e5-42c4-bb75-e3fee3622654",
   "metadata": {},
   "outputs": [
    {
     "name": "stdout",
     "output_type": "stream",
     "text": [
      "[0, 1, 2, 3, 4]\n"
     ]
    }
   ],
   "source": [
    "newlist6 = [x for x in range(10) if x < 5]\n",
    "print(newlist6)"
   ]
  },
  {
   "cell_type": "code",
   "execution_count": 13,
   "id": "6a648d0b-83ad-4d49-9de1-a7e9fd0a03da",
   "metadata": {},
   "outputs": [
    {
     "data": {
      "text/plain": [
       "['one', 'two', 'three', 'four', 'five', 'six']"
      ]
     },
     "execution_count": 13,
     "metadata": {},
     "output_type": "execute_result"
    }
   ],
   "source": [
    "mylist"
   ]
  },
  {
   "cell_type": "code",
   "execution_count": 14,
   "id": "e6eb403f-eddc-4fec-8729-3c37f21d7157",
   "metadata": {},
   "outputs": [
    {
     "name": "stdout",
     "output_type": "stream",
     "text": [
      "['ONE', 'TWO', 'THREE', 'FOUR', 'FIVE', 'SIX']\n"
     ]
    }
   ],
   "source": [
    "newlist7 = [ x.upper() for x in mylist]\n",
    "print(newlist7)"
   ]
  },
  {
   "cell_type": "code",
   "execution_count": 15,
   "id": "0fbb271c-a5bd-40db-ae02-82cf1fa0fc82",
   "metadata": {},
   "outputs": [
    {
     "name": "stdout",
     "output_type": "stream",
     "text": [
      "['Python', 'Python', 'Python', 'Python', 'Python', 'Python']\n"
     ]
    }
   ],
   "source": [
    "newlist8 = [ \"Python\" for x in mylist]\n",
    "print(newlist8)"
   ]
  },
  {
   "cell_type": "code",
   "execution_count": 17,
   "id": "ec8cc2a7-c377-4059-9492-7d7a6215c99f",
   "metadata": {},
   "outputs": [
    {
     "name": "stdout",
     "output_type": "stream",
     "text": [
      "['one', 'two', 'three', 'four', 'five', 'six']\n"
     ]
    }
   ],
   "source": [
    "newlist9 = [x if x !=\"FOUR\" else \"SIX\" for x in mylist]\n",
    "print(newlist9)"
   ]
  },
  {
   "cell_type": "code",
   "execution_count": 18,
   "id": "544d701d-3dfd-43bf-b20d-23c9eb592313",
   "metadata": {},
   "outputs": [
    {
     "data": {
      "text/plain": [
       "['one', 'two', 'three', 'four', 'five', 'six']"
      ]
     },
     "execution_count": 18,
     "metadata": {},
     "output_type": "execute_result"
    }
   ],
   "source": [
    "mylist"
   ]
  },
  {
   "cell_type": "code",
   "execution_count": 19,
   "id": "421fa6a1-bd4e-4643-87a6-533f06e10c33",
   "metadata": {},
   "outputs": [
    {
     "name": "stdout",
     "output_type": "stream",
     "text": [
      "['one', 'two', 'three', 'six', 'five', 'six']\n"
     ]
    }
   ],
   "source": [
    "newlist9 = [x if x !=\"four\" else \"six\" for x in mylist]\n",
    "print(newlist9)"
   ]
  },
  {
   "cell_type": "code",
   "execution_count": 20,
   "id": "2a387140-0bb4-42fa-adaa-4436cb769f28",
   "metadata": {},
   "outputs": [
    {
     "name": "stdout",
     "output_type": "stream",
     "text": [
      "['apple', 'orange', 'cherry', 'kiwi', 'mango']\n"
     ]
    }
   ],
   "source": [
    "fruits = [\"apple\", \"banana\", \"cherry\",\"kiwi\",\"mango\"]\n",
    "newlist10 = [ x if x !=\"banana\" else \"orange\" for x in fruits]\n",
    "print(newlist10)"
   ]
  },
  {
   "cell_type": "code",
   "execution_count": 21,
   "id": "a9936919-4406-4dde-aa23-623256c24547",
   "metadata": {},
   "outputs": [
    {
     "data": {
      "text/plain": [
       "[[2, 4, 6, 8, 10, 12, 14, 16, 18, 20], [3, 6, 9, 12, 15, 18, 21, 24, 27, 30]]"
      ]
     },
     "execution_count": 21,
     "metadata": {},
     "output_type": "execute_result"
    }
   ],
   "source": [
    " [[i*j for j in range(1,11)] for i in range(2,4)]"
   ]
  },
  {
   "cell_type": "code",
   "execution_count": 22,
   "id": "bbb7556a-d6aa-44ec-9f15-77d02ee3e33d",
   "metadata": {},
   "outputs": [
    {
     "data": {
      "text/plain": [
       "[1.0, 1.4142135623730951, 1.7320508075688772, 2.0, 2.23606797749979]"
      ]
     },
     "execution_count": 22,
     "metadata": {},
     "output_type": "execute_result"
    }
   ],
   "source": [
    "import math\n",
    "myList = [1,2,3,4,5]\n",
    "[math.sqrt(x) for x in myList]\n",
    "#[1.0, 1.4142135623730951, 1.7320508075688772, 2.0, 2.23606797749979]"
   ]
  },
  {
   "cell_type": "code",
   "execution_count": 23,
   "id": "003d0d38-c593-4e6d-866f-1b771333795d",
   "metadata": {},
   "outputs": [
    {
     "data": {
      "text/plain": [
       "[0, 1, 8, 27, 64]"
      ]
     },
     "execution_count": 23,
     "metadata": {},
     "output_type": "execute_result"
    }
   ],
   "source": [
    "[x**3 for x in range(0,5)]"
   ]
  },
  {
   "cell_type": "markdown",
   "id": "226eb06b-0a2d-4319-9110-aaadff8f0f06",
   "metadata": {},
   "source": [
    "### Copy a List"
   ]
  },
  {
   "cell_type": "code",
   "execution_count": 24,
   "id": "60eef290-f326-4715-8f01-651b1dda198c",
   "metadata": {},
   "outputs": [
    {
     "name": "stdout",
     "output_type": "stream",
     "text": [
      "['apple', 'banana', 'papaya']\n"
     ]
    }
   ],
   "source": [
    "mylist = [\"apple\",\"banana\",\"papaya\"]\n",
    "mynewlist = mylist.copy()\n",
    "print(mynewlist)"
   ]
  },
  {
   "cell_type": "code",
   "execution_count": 25,
   "id": "f4bc5bd1-b603-459f-a1fb-b6da8639337e",
   "metadata": {},
   "outputs": [
    {
     "name": "stdout",
     "output_type": "stream",
     "text": [
      "['apple', 'banana', 'papaya', 'Girish']\n",
      "['apple', 'banana', 'papaya']\n"
     ]
    }
   ],
   "source": [
    "mylist.append(\"Girish\")\n",
    "print(mylist)\n",
    "print(mynewlist)"
   ]
  },
  {
   "cell_type": "code",
   "execution_count": 26,
   "id": "80d9aa22-f920-44e3-aee4-e23d672c2d2c",
   "metadata": {},
   "outputs": [
    {
     "name": "stdout",
     "output_type": "stream",
     "text": [
      "['apple', 'banana', 'papaya']\n",
      "['apple', 'banana', 'papaya']\n"
     ]
    }
   ],
   "source": [
    "mylist.pop()\n",
    "print(mylist)\n",
    "print(mynewlist)"
   ]
  },
  {
   "cell_type": "code",
   "execution_count": 27,
   "id": "d28e0d6a-3c95-472f-8460-abbdcc349fe4",
   "metadata": {},
   "outputs": [
    {
     "name": "stdout",
     "output_type": "stream",
     "text": [
      "['apple', 'banana', 'papaya', 'Chandra']\n",
      "['apple', 'banana', 'papaya']\n"
     ]
    }
   ],
   "source": [
    "mynewlist.append(\"Chandra\")\n",
    "print(mynewlist)\n",
    "print(mylist)"
   ]
  },
  {
   "cell_type": "code",
   "execution_count": 28,
   "id": "9b14be6e-d7c4-4af9-899d-8af6e8128d82",
   "metadata": {},
   "outputs": [
    {
     "name": "stdout",
     "output_type": "stream",
     "text": [
      "['apple', 'banana', 'papaya']\n",
      "['apple', 'banana', 'papaya']\n"
     ]
    }
   ],
   "source": [
    "mynewlist.pop()\n",
    "print(mynewlist)\n",
    "print(mylist)"
   ]
  },
  {
   "cell_type": "code",
   "execution_count": 29,
   "id": "b3ad7296-2815-41c0-8122-6e3a4b3edad7",
   "metadata": {},
   "outputs": [],
   "source": [
    "### Shallow Copy and Deep Copy ==> Later I will explain this concept"
   ]
  },
  {
   "cell_type": "code",
   "execution_count": null,
   "id": "40418705-4f73-4232-98f4-3b4652ad0232",
   "metadata": {},
   "outputs": [],
   "source": []
  }
 ],
 "metadata": {
  "kernelspec": {
   "display_name": "Python 3 (ipykernel)",
   "language": "python",
   "name": "python3"
  },
  "language_info": {
   "codemirror_mode": {
    "name": "ipython",
    "version": 3
   },
   "file_extension": ".py",
   "mimetype": "text/x-python",
   "name": "python",
   "nbconvert_exporter": "python",
   "pygments_lexer": "ipython3",
   "version": "3.12.7"
  }
 },
 "nbformat": 4,
 "nbformat_minor": 5
}
